{
 "cells": [
  {
   "cell_type": "markdown",
   "metadata": {},
   "source": [
    "# Formation of supermassive stars in the first star clusters\n",
    "\n",
    "### [(Reinoso et. al, 2023)](https://ui.adsabs.harvard.edu/abs/2023MNRAS.521.3553R/abstract)\n",
    "\n",
    "### Vanessa Brown | HW4 | Star and Planet Formation 2024\n",
    "\n",
    "Reinoso et. al investigate whether supermassive stars may form within primordial/low-metallicity clouds that have already experienced subparsec-scale fragmentation. Their motivation is to clarify the mechanisms by which supermassive black holes (SMBHs) are able to form within the first billion years of cosmic history, an open question in astrophysics. The detection of over 200 quasars with masses greater than $10^9 M_\\odot$ at redshifts $z > 5.7$ requires an explanation for how the SMBHs powering them grow so large so quickly. The first generation of stars are theorized to have very large characteristic masses ranging from $10^{1−3} M_\\odot$, but even their black hole remnants would require sustained Eddington-limit accretion (or even super-Eddington) to reach SMBH status in the timeframe of interest. Some hypotheses therefore focus on supermassive stars (SMS), formed from the collapse of primordial gas clouds and theoretically capable of reaching $10^5 M_\\odot$. These inflated stars have some advantages over other proposed massive black hole seed originators: their low effective temperatures reduce their ability to produce the ionizing photons that terminate accretion, and their proposed gas-rich environments would provide ample material for subsequent remnant accretion growth.\n",
    "\n",
    "The formation of SMS requires suppression of molecular hydrogen cooling, which leads to fragmentation in the primordial cloud, and dominance of collisional excitation of hydrogen atoms instead; suppression can be achieved through a strong radiation background in Lyman–Werner bands ($11.2 eV \\leq hν \\leq 13.6 eV$) or dynamical heating through dark matter halo mergers. In idealized overdense environments in the early Universe with these conditions, high accretion rates are achieved and an SMS is shown to be formed through semi-analytic models. High resolution numerical simulations, however, indicate that fragmentation is unavoidable for the high accretion rates expected in these conditions. The authors investigate whether SMS can still form *after* small-scale fragmentation of their birth clouds and the formation of a cluster of stars.\n",
    "\n",
    "The authors model the center of a collapsed primordial cloud using N-body and hydrodynamics simulations with AMUSE. They repeatedly simulate two clusters consisting of gas and protostars at differing total masses, obtaining velocities from an imposed virial equilibrium condition and injecting a spectrum of Kolmogorov turbulence. The N-body particles, which here only interact through gravity with no feedback, are assigned properties such as stage (*protostar, star,* and *supermassive star*) and luminosity in order to track their cross-sections; sink particle creation, gas accretion, ejections from the cluster, and collisions between particles are tracked as well.\n",
    "\n",
    "In simulations of the smaller mass cluster, the authors note that as the gas cloud contracts, no substructures form and a central object accretes at a high rate to become the most massive object (MMO) of the cluster. In one third of the simulations, the MMO is in a binary system with another very massive object, with fewer stars in the final stellar system due to more collisions and ejections from three body interactions. The maximum accretion rates in the simulations are a few $M_\\odot yr^{−1}$, thus creating an MMO that emerges in the cloud centre and evolves as an inflated SMS. The increased cross section of the central star results in a period of runaway collisions with the MMO. Huge gas densities ($\\rho ∼ 10^{−8} g cm^{−3}$) around the MMO trigger the formation of new sink particles, almost all (~95%) of which merge with other objects (but only ~34% merge with the MMO). The typical outcome is a small cluster of stars with almost no gas left, ∼50 stars with typical masses in the range $1–10 M_\\odot$ surrounding the MMO.\n",
    "\n",
    "In simulations of the larger mass cluster, either a central object starts to accrete most of the mass, or a new sink particle is created at the centre due to the high gas densities. This central particle reaches accretion rates of several $10 M_\\odot yr^{−1}$, containing on average ~80% of the initial cluster mass. This particle also evolves as a supermassive star due to the high accretion rates that it reaches, and grows both by accretion of gas and stellar collisions (collisions contribute a smaller mass fraction to the final mass of the MMO). Nearly all new sink particles (∼99%) formed around the MMO merge with other objects (~70% with the MMO). The final cluster comprises an MMO with $∼2 × 10^4 M_\\odot$ orbited by a few other stars, most of them with masses in the range $1–10 M_\\odot$.\n",
    "\n",
    "The results presented by Reinoso et. al agree with the study by [Chon & Omukai, 2020](https://ui.adsabs.harvard.edu/abs/2020MNRAS.494.2851C/abstract) on ‘super-competitive accretion’, in which a single massive object dominates the growth by gas accretion. Reinoso et. al find that a massive central object is always formed and experiences run-away growth via collisions with other protostars in the cluster. In their analysis, the authors consider several concepts that we have discussed in our course. They investigate the impact of subparsec fragmentation on stellar formation, which we have briefly explored in calculation. To probe whether the feedback they did not include in their simulations would have a significant effect on their results, they calculate the Stromgren radius of stars around the MMO, as we have done in class; while the authors find that these stars are not close enough to affect the growth of the MMO, they note that the masses of the second most massive object could be affected in larger mass simulations. To the extent that their simplified particle systems resemble primordial/low-metallicity clouds with a cluster already formed, the authors find that the fragmentation process does not fully suppress high-mass inward flow and so an SMS may still form, remaining a viable explanation for early massive black hole seed originators. "
   ]
  }
 ],
 "metadata": {
  "language_info": {
   "name": "python"
  }
 },
 "nbformat": 4,
 "nbformat_minor": 2
}
