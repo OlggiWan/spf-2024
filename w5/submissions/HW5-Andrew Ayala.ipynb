{
 "cells": [
  {
   "cell_type": "code",
   "execution_count": 2,
   "metadata": {},
   "outputs": [],
   "source": [
    "from pylab import *\n",
    "import numpy as np"
   ]
  },
  {
   "cell_type": "markdown",
   "metadata": {},
   "source": [
    "# Homework 5: Classic Solutions\n",
    "This homework we will develop some models for a couple of classic systems -- these practice some basic numerical techniques that will come in handy no matter what you're doing. These systems are often used as examples or initial conditions in more complicated codes, so they're handy to understand!\n",
    "\n",
    "## Part I: Bonner-Ebert Spheres\n",
    "\n",
    "In class, we derived the Lane-Emden Equation,\n",
    "\n",
    "$\\frac{1}{\\zeta^2} \\frac{d}{d\\zeta} \\zeta^2 \\frac{du}{d\\zeta} = e^{-u}$\n",
    "\n",
    "which we can solve in order to get density distributions from a family of solutions for the Bonner-Ebert Sphere, where $\\zeta$ and $u$ are variables that encode the radial and density coordinates, respectively.\n",
    "\n",
    "where $u = -\\ln\\left(\\frac{\\rho}{\\rho_c}\\right)$ and $\\zeta = r \\left(\\frac{c_s^2}{4\\pi G\\rho_c}\\right)^{-1/2}$\n"
   ]
  },
  {
   "cell_type": "markdown",
   "metadata": {},
   "source": [
    "### part a\n",
    "The $u$ and $\\zeta$ are coupled, but that behavior is less obvious in their current form, but we can build some intuition for the problem applying what we already know. \n",
    "\n",
    "The solutions are encoded in terms of the central concentration: the ratio of $\\rho_c/\\rho_{0}$. \n",
    "If you recall, the Jean's length is also stated in terms of an ambient uniform density, $\\rho_0$. \n",
    "\n",
    "Solve for $\\zeta_J = \\zeta(r=r_J)$, then assuming that $u_J = -\\ln(\\rho_0/\\rho_c)$, what is the relationship between $\\zeta_J$ and $u_J$?\n"
   ]
  },
  {
   "cell_type": "markdown",
   "metadata": {},
   "source": []
  },
  {
   "cell_type": "markdown",
   "metadata": {},
   "source": [
    "### part b\n",
    "Taking the derivatives in the Lane-Emden Equation we get:  \n",
    "$\\frac{2}{\\zeta} \\frac{du}{d\\zeta} + \\frac{d^2u}{d^2\\zeta} = e^{-u}$\n",
    "\n",
    "Which you may recognize as a second order non-linear differential equation of the form:  \n",
    "$ y''(x) + \\frac{2}{x} y'(x) = e^{-y}$\n",
    "\n",
    "In order solve a second order ODE, we need to establish our boundary conditions for $y(0), y'(0),$ and $y''(0)$\n",
    "\n",
    "We know that at $\\zeta = 0$, we are at $r=0$, and so that $\\rho = \\rho_c$, the central density,\n",
    "so that $u(\\zeta=0) = -\\ln(1) = 0$, so in this case $y(0)=0$\n",
    "\n",
    "At $r=0$, $\\frac{d\\phi}{dr} = 0$, such that $\\frac{du}{d\\zeta} = 0$, so $y'(0)=0$.\n",
    "\n",
    "Finally, plugging in to solve for $y''(0) = e^{-y(0)} + \\frac{2 y'(0)}{x\\rightarrow 0}$, which with some application of L'Hopitals rule, we can get $y''(0) = 1/3$\n",
    "\n",
    "We can numerically approximate the solution by integrating forward in $x$ in steps of $\\Delta x$, knowing that:\n",
    "\n",
    "$y''(x) = e^{-y} - \\frac{2}{x} y'(x)$\n",
    "\n",
    "and by Taylor expanding around small $\\Delta x$ such that the value of y and y' at the next iteration of \\Delta x is defined by:\n",
    "\n",
    "$ y(x + \\Delta x) = y(x) + y'(x) \\Delta x + y''(x)\\Delta x^2 /2$  \n",
    "$y'(x + \\Delta x) = y'(x) + y''(x)\\Delta x$  \n",
    "\n",
    "Define a function called to integrate the Lane Emden equation given some input array of x with the boundary conditions above. \n",
    "\n"
   ]
  },
  {
   "cell_type": "code",
   "execution_count": 8,
   "metadata": {},
   "outputs": [],
   "source": [
    "def integrate_LE(x):\n",
    "    nsteps = x.size\n",
    "    y = np.zeros(nsteps)\n",
    "    yp = np.zeros(nsteps)\n",
    "    yp2 = np.zeros(nsteps)\n",
    "    \n",
    "    yp2[0] = 1/3.\n",
    "    \n",
    "    #your function here\n",
    "    return (y, yp)"
   ]
  },
  {
   "cell_type": "markdown",
   "metadata": {},
   "source": [
    "(If you're getting really stuck at this point, recall that the textbook has [online resources](https://interstellarmedium.github.io/) that show example code behind the figures..) "
   ]
  },
  {
   "cell_type": "markdown",
   "metadata": {},
   "source": [
    "Now we're going to define the inputs through the parameters, so first define the amount of central concentration:\n",
    "$\\rho_c/\\rho_0 = 14$ for this fiducial case.\n",
    "and then set up the array in x going to $\\zeta_{\\max} = \\zeta_J$. (I recommend logarithmically spaced points)\n",
    "\n",
    "Use your integrator function to calculate $y(x)$ ... otherwise known as $u(\\zeta)$. Then use the solution to plot \n",
    "$\\rho/\\rho_c$ vs. $\\zeta/\\zeta_J$\n",
    "\n",
    "What value should $\\rho/\\rho_c$ have at small $\\zeta$? As $\\zeta \\rightarrow \\zeta_J$?"
   ]
  },
  {
   "cell_type": "code",
   "execution_count": 3,
   "metadata": {},
   "outputs": [
    {
     "data": {
      "text/plain": [
       "<matplotlib.lines.Line2D at 0x7f9334c5bc40>"
      ]
     },
     "execution_count": 3,
     "metadata": {},
     "output_type": "execute_result"
    },
    {
     "data": {
      "image/png": "[encoded data removed]",
      "text/plain": [
       "<Figure size 600x400 with 1 Axes>"
      ]
     },
     "metadata": {
      "needs_background": "light"
     },
     "output_type": "display_data"
    }
   ],
   "source": [
    "N = 100\n",
    "rho_ratio = 14.\n",
    "#x_J = scaling factor\n",
    "#x = np.logspace(-2,np.log10(x_J),N)\n",
    "\n",
    "#y,yp = integrate_LE(x)\n",
    "# rho_rhoc =\n",
    "f,ax = subplots(1,constrained_layout=True, dpi=100)\n",
    "\n",
    "#ax.plot(x/x_J,rho_rhoc,lw=2,color='black')\n",
    "ax.set_xlabel(r'$\\zeta/\\zeta_J$',fontsize=12)\n",
    "ax.set_ylabel(r'$\\rho/\\rho_c$',fontsize=12)\n",
    "ax.set_title(r'$\\rho_c/\\rho_0 = 14$')\n",
    "ax.axhline(1/rho_ratio, ls='dotted',lw=1, color='gray')"
   ]
  },
  {
   "cell_type": "markdown",
   "metadata": {},
   "source": [
    "### part c\n",
    "Up until this point, we are still using non-physical units, without being particularly anchored to realistic scales.\n",
    "We want to adjust our method up until this point to rescale. Define a function to calculate $r_J$ as a function of ambient density and temperature and re-scale the radial coordinate $\\zeta$ in terms of $r_J$ and the central concentration ratio $\\rho_c/\\rho_0$ to get its value in parsecs. \n",
    "use $T_0 = 10 K$ and $\\rho_0 = 2.3 m_H \\times 10^4 \\mathrm{cm^{-3}}$.\n",
    "\n",
    "This time, make a plot of $\\log \\rho/\\rho_0$ vs $\\log r \\ \\mathrm{[pc]}$ for a series of central concentrations between 2 and 14 (and some values higher than 14), with a legend for the values of the central concentration. \n",
    "Annotate on this plot the value of the jean's length. \n",
    "\n",
    "14 is the maximum stable central concentration for a bonner-ebert sphere. What happens to the shape of the density distributions for values above critical?\n"
   ]
  },
  {
   "cell_type": "code",
   "execution_count": 4,
   "metadata": {},
   "outputs": [
    {
     "data": {
      "text/plain": [
       "Text(0, 0.5, '$\\\\rho/\\\\rho_0$')"
      ]
     },
     "execution_count": 4,
     "metadata": {},
     "output_type": "execute_result"
    },
    {
     "data": {
      "image/png": "[encoded data removed]",
      "text/plain": [
       "<Figure size 432x288 with 1 Axes>"
      ]
     },
     "metadata": {
      "needs_background": "light"
     },
     "output_type": "display_data"
    }
   ],
   "source": [
    "m_H = 1.67e-24\n",
    "def r_J(T_0,rho_0):\n",
    "    # your function here\n",
    "    return \n",
    "\n",
    "N = 200\n",
    "T_0 = 10\n",
    "rho_0 = 2.3*m_H*10**4\n",
    "\n",
    "\n",
    "#axvline(r_J(T_0,rho_0),color='gray',ls='dotted')\n",
    "#axhline(1,color='gray',ls='dotted')\n",
    "\n",
    "#for rho_ratio in [34,24,14, 10, 6, 2]:\n",
    "    #x_J = your scaling here\n",
    "    #x = np.logspace(-2,np.log10(x_J),N)\n",
    "    #y,yp = integrate_LE(x)\n",
    "    #rho_rhoc =\n",
    "    #rho_rho0 = \n",
    "    # r = x*x_scale(T_0,rho_0,rho_ratio)\n",
    "    #if rho_ratio> 14:\n",
    "        #ls = 'dashed'\n",
    "    #else:\n",
    "        #ls = 'solid'\n",
    "    #loglog(r,rho_rho0, color=cm.viridis(rho_ratio/34),lw=2,ls=ls)\n",
    "xlim(1e-3,)\n",
    "xlabel('radius [pc]',fontsize=12)\n",
    "ylabel(r'$\\rho/\\rho_0$',fontsize=12)"
   ]
  },
  {
   "cell_type": "markdown",
   "metadata": {},
   "source": [
    "### part d\n",
    "As above, make a series of plots of $\\rho/\\rho_0$ vs radius, but this time with the same central concentration, just different values of $T_0$. Explain the behavior of the plots in terms of concepts we've discussed in class, i.e. why does this make sense?"
   ]
  },
  {
   "cell_type": "code",
   "execution_count": 5,
   "metadata": {},
   "outputs": [
    {
     "data": {
      "text/plain": [
       "Text(0, 0.5, '$\\\\rho/\\\\rho_0$')"
      ]
     },
     "execution_count": 5,
     "metadata": {},
     "output_type": "execute_result"
    },
    {
     "data": {
      "image/png": "[encoded data removed]",
      "text/plain": [
       "<Figure size 432x288 with 1 Axes>"
      ]
     },
     "metadata": {
      "needs_background": "light"
     },
     "output_type": "display_data"
    }
   ],
   "source": [
    "N = 200\n",
    "T_0 = 10\n",
    "rho_0 = 2.3*m_H*10**4\n",
    "rho_ratio = 14.\n",
    "\n",
    "\n",
    "#x_J = your scaling here\n",
    "#x = np.logspace(-2,np.log10(x_J),N)\n",
    "#y,yp = integrate_LE(x)\n",
    "#rho_rhoc =\n",
    "#rho_rho0=\n",
    "#for T_0 in [10,14,20,30,50]:\n",
    "    #r = x * rescaling factor\n",
    "    #loglog(r,rho_rho0,color=cm.viridis(T_0/50),lw=2,ls=ls)\n",
    "xlim(1e-3,)\n",
    "xlabel('radius [pc]',fontsize=12)\n",
    "ylabel(r'$\\rho/\\rho_0$',fontsize=12)"
   ]
  },
  {
   "cell_type": "markdown",
   "metadata": {},
   "source": [
    "## Part II: *Menu* [optional]\n",
    "\n",
    "Using your model, fit a Bonner-Ebert sphere model (i.e. find the correct central concentration) to the extinction profile of Barnard 68 from Alves et al, 2001\n",
    "(I've included the file `alves-b68.csv` which has 1 column as radial distance in arcseconds and 1 column as visual extinction) \n"
   ]
  }
 ],
 "metadata": {
  "kernelspec": {
   "display_name": "Python 3",
   "language": "python",
   "name": "python3"
  },
  "language_info": {
   "codemirror_mode": {
    "name": "ipython",
    "version": 3
   },
   "file_extension": ".py",
   "mimetype": "text/x-python",
   "name": "python",
   "nbconvert_exporter": "python",
   "pygments_lexer": "ipython3",
   "version": "3.9.12"
  }
 },
 "nbformat": 4,
 "nbformat_minor": 4
}
