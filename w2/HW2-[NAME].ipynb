{
 "cells": [
  {
   "cell_type": "code",
   "execution_count": null,
   "metadata": {},
   "outputs": [],
   "source": [
    "from pylab import *\n",
    "import numpy as np"
   ]
  },
  {
   "cell_type": "markdown",
   "metadata": {},
   "source": [
    "# Homework 2: An HI model of the MW\n",
    "\n",
    "This week we'll be constructing models for the properties of HI in the Galaxy using the results of HI 21 cm surveys. \n",
    "\n",
    "## I. HI galactic structure\n",
    "We'll be taking a spectrum along a specific line of sight defined by the galactocentric longitude $l$ and trying to calculate the physical neutral hydrogen number density $n_H$. \n",
    "\n",
    "The spectra for each $l$ are in their own `.txt` file, with columns for the radial velocity $v_{lsr}$ in km/s and brightness $T_b$ in K.\n",
    "In order to spatially map this emission, we're going to calculate the kinematic distances for a sample radial velocity assuming a flat Galactic rotation curve. \n",
    "The expression for the radial velocity is a function of the galactic rotation curve $v_0$ scaled to the location of the solar circle $r_0$ and the galactice longitude and latitude, $l$ and $b$. We're going to restrict this to the midplane, taking spectra only for $b=0$. For a flat rotation curve, the expression becomes:\n",
    "\n",
    "$v_{lsr} = v_0\\sin(l)(r_0/r - 1)$\n",
    "\n",
    "Using this relationship, we can calculate the galactocentric radius, $r$ from the measured radial velocities $v_{lsr}$. The law of cosines then gives a solution for the distance from the Sun as:\n",
    "\n",
    "$s = r_0 \\cos(l) \\pm \\sqrt(r^2 - r_0^2 \\sin^2 (l))$\n",
    "\n",
    "This presents two solutions for the line of sight distance when $r < r_0$, an effect known as the kinematic distance anomaly (KDA).  \n",
    "<img src = \"kda.png\" width=20% height=20%>\n",
    "Figure is Figure 1 from [Roman-Duval et al., 2009](https://ui.adsabs.harvard.edu/abs/2009ApJ...699.1153R/abstract). See ref for more details.\n",
    "\n",
    "To make our lives easier, here, we are going to exclude our analysis to everything outside of the solar circle, such that $r/r_0 > 1$, so that there is only one solution for the source distance $s$. Since the galactic rotation curve is still a bit wiggly, departing from the solar circle value by more than 10 km/s for R > 30 kpc, (see Figure 2 in Kalberla & Kerp 2009), let's also prescribe the limit to be $r/r_0 < 30/r_0$. \n",
    "For angles $l < 180$, the radial los velocity component of galactic rotation $v_0 \\sin(l) > 0$, while for $l> 180$, $v_0 sin(l) < 0$ -- looking toward the current vs. against it. \n",
    "\n",
    "For our purposes we will adopt $r_0 = 8.5 \\mathrm{kpc}$ and $v_0 = 220 \\mathrm{km /s }$\n",
    "\n",
    "### Part a\n",
    "Derive the threshhold of $v_{lsr}$ for:  \n",
    "a. $r/r0 = 1$  \n",
    "b. $r/r0 = 30/r_0$  \n",
    "\n",
    "Use the derived threshhold to define a function below that takes an rmin and rmax and returns a tuple of the corresponding vmin and vmax in terms of $v_0 \\sin(l)$"
   ]
  },
  {
   "cell_type": "code",
   "execution_count": null,
   "metadata": {},
   "outputs": [],
   "source": [
    "def get_vlim(rmin=8.5,rmax=30.,r0=8.5):\n",
    "    #your function here\n",
    "    return (v_lim_1,v_lim_2)"
   ]
  },
  {
   "cell_type": "markdown",
   "metadata": {},
   "source": [
    "Go to the survey data website: https://www.astro.uni-bonn.de/hisurvey/AllSky_profiles/index.php \n",
    "Input a galactic longitude between 30 and 330 degrees (whatever you want!) and click search. You will see a spectrum and a link that says:\n",
    "`Download this data as an ascii file`. Click the link and save the file to your working directory.\n",
    "\n",
    "Below I've included a class that reads in this type of spectrum file and a galactic longitude and performs basic calculations.\n",
    "The function `clean_spectrum` will use the function you just defined to bin the spectrum within the resulting velocity threshholds in order to limit the analysis to those between the defined galactocentric radii. Read over the methods and get acquainted with the properties of the class and make sure you understand how the function you wrote is going to be used."
   ]
  },
  {
   "cell_type": "code",
   "execution_count": null,
   "metadata": {},
   "outputs": [],
   "source": [
    "from scipy import stats\n",
    "pctocm = 3.086e18\n",
    "kpctocm = pctocm*1000\n",
    "\n",
    "class spec_calc:\n",
    "    def __init__(self,l,filename,rmin=None,rmax=None):\n",
    "        \"\"\" method initializes with galactic longitude l in degrees and filename of spectrum file to read.\n",
    "        As part of initialization, this will:\n",
    "        1. read in the spectrum \n",
    "        2. clean the spectrum (bin the spectrum in the range vmin and vmax with bins of size dv)\n",
    "        3. calculate the galactocentric radius of the velocities\n",
    "        4. calculate the distances from the galactocentric radius\"\"\"\n",
    "        self.l = l\n",
    "        if rmin is None:\n",
    "            self.rmin = 8.5\n",
    "        else:\n",
    "            self.rmin = rmin\n",
    "        if rmax is None:\n",
    "            self.rmax = 30.0\n",
    "        else:\n",
    "            self.rmax = rmax\n",
    "        self.data = self.read_spectrum(filename)\n",
    "        v_bins, self.T_b = self.clean_spectrum()\n",
    "        self.vlsr = (v_bins[1:]+ v_bins[:-1])*0.5\n",
    "        self.dv = np.diff(v_bins)\n",
    "        r_bins = self.r_gc(v_bins) #bin edges corresponding to the velocity bins in terms of r_gc\n",
    "        s_bins = self.dist(r_bins) #bin edges corresponding to the velocity bins in terms of los distance\n",
    "        self.ds = np.abs(np.diff(s_bins)) #width of each bin in los distance\n",
    "        self.r_ =(r_bins[1:]+r_bins[:-1])*0.5 #galactocentric radii coordinates\n",
    "        self.s_ = (s_bins[1:]+s_bins[:-1])*0.5 #line of sight distance\n",
    "\n",
    "    def read_spectrum(self,filename):\n",
    "        \"\"\" reads in a file with spectral information and returns a list of vlsr [km/s] and Tb [K]\"\"\"\n",
    "        data = np.loadtxt(filename,comments=\"%\")\n",
    "        vr = data[:,0]\n",
    "        Tb = data[:,1]\n",
    "        return (vr, Tb)\n",
    "\n",
    "    def clean_spectrum(self,dv=2,v0=220.):\n",
    "        \"\"\" returns a binned spectrum with velocity bins of width dv within some threshold vmin and vmax given by the get_lim() function\"\"\"\n",
    "        l = np.radians(self.l)\n",
    "        vr, Tb = self.data\n",
    "        v_lim_1, v_lim_2 = get_vlim(rmin=self.rmin,rmax=self.rmax)\n",
    "        v_lim_1 *= v0*np.sin(l)\n",
    "        v_lim_2 *= v0*np.sin(l)\n",
    "        v_min = min(v_lim_1,v_lim_2)\n",
    "        v_max = max(v_lim_1,v_lim_2)\n",
    "        bins_e = np.arange(v_min,v_max,dv) #bin_edges\n",
    "        bins = (bins_e[1:]+bins_e[:-1])*0.5 #bin_centers\n",
    "        Tb_binned = stats.binned_statistic(vr,Tb,bins=bins_e)[0]\n",
    "        return bins_e, Tb_binned\n",
    "\n",
    "    def r_gc(self,vr,r0=8.5,v0=220.):\n",
    "        \"\"\" calculates the galactocentric radius assuming a flat rotation curve\"\"\"\n",
    "        l = np.radians(self.l)\n",
    "        v_lim = v0*np.sin(l)\n",
    "        return r0*np.sin(l)*v0/(vr+v_lim)\n",
    "\n",
    "    def dist(self,r_,r0=8.5):\n",
    "        \"\"\" calculates the kinematic distance of a source based on the galactocentric R and l\"\"\"\n",
    "        l = np.radians(self.l)\n",
    "        return r0*np.cos(l) + np.sqrt( r_*r_ - r0*r0*np.sin(l)*np.sin(l))\n",
    "\n",
    "\n"
   ]
  },
  {
   "cell_type": "markdown",
   "metadata": {},
   "source": [
    "The following script will plot the raw data vs the cleaned spectrum and the converted galactocentric distances for the brightness temperatures. Put in the path to your file for `file_in` and the longitude you chose for `l_in`. If your function works as it should, the resulting $R_{gc}$ should be between 8.5 kpc and 30 kpc."
   ]
  },
  {
   "cell_type": "code",
   "execution_count": null,
   "metadata": {},
   "outputs": [],
   "source": [
    "file_in= #path to your file\n",
    "l_in = #your longitude here\n",
    "spec = spec_calc(filename=file_in,l=l_in)\n",
    "\n",
    "f,ax = subplots(1,2,constrained_layout=True,dpi=100)\n",
    "ax[0].plot(*spec.data,'k.',alpha=0.5,label='raw spectrum')\n",
    "ax[0].plot(spec.vlsr, spec.T_b,color='maroon',lw=2,label=r'$1 < R/R_0 > 30/R_0$')\n",
    "ax[0].set_xlabel(r'$v_{lsr}$ [km/s]',fontsize=12)\n",
    "ax[0].set_ylabel(r'$T_b$ [K]',fontsize=12)\n",
    "ax[0].legend(loc=1)\n",
    "\n",
    "ax[1].plot(spec.r_, spec.T_b,'.-',color='maroon')\n",
    "ax[1].set_xlabel(r'$R_{gc}$ [kpc]',fontsize=12)\n",
    "ax[1].set_ylabel(r'$T_b$ [K]',fontsize=12)\n",
    "ax[1].set_yscale('log')"
   ]
  },
  {
   "cell_type": "markdown",
   "metadata": {},
   "source": [
    "### Part b\n",
    "Now we have a mapping of each velocity bin to a distance, we want to get an understanding of what the column is at each distance. \n",
    "Of course, we could sum over the entire spectrum and get the total column density along the line of sight, but using our rotation curve model, the kinematic distances we've derived mean that we can use the velocities to somewhat separate out the column into contributions from a set of distances. Basically, we're assuming that each $dv$ of the spectrum comes from a unique distance, and thus maps onto a column density measurement summed over $ds$ along the line of the sight. \n",
    "\n",
    "Write a function that calculates the column density of hydrogen for a bin of width $dv$ at a temperature $T_b$. \n",
    "\n",
    "Hint:\n",
    "Equations 13.8 and 13.10 in the [Radio Astronomy manual](https://www.asu.cas.cz/~barta/ARC-doc/ToolsOfRadioAstronomy.pdf) are a good place to start. Assume no background temperature and recall that for HI, we're going to assume optically thin emission such that $\\tau \\ll 1$. \n",
    "\n",
    "Calculate the column density for each velocity bin and plot with respect to the line of sight distance."
   ]
  },
  {
   "cell_type": "code",
   "execution_count": null,
   "metadata": {},
   "outputs": [],
   "source": [
    "def NH_bin(Tb, dv):\n",
    "    # your function here\n",
    "    \n",
    "\n",
    "\n",
    "NH_bins = NH_bin(spec.T_b,spec.dv)\n",
    "\n",
    "f,ax=subplots(1,dpi=100)\n",
    "ax.semilogy(spec.s_, NH_bins,'k.-')\n",
    "ax.set_xlabel('s [kpc]',fontsize=12)\n",
    "ax.set_ylabel(r'$N_H \\ \\mathrm{[cm^{-2}]}$',fontsize=12)"
   ]
  },
  {
   "cell_type": "markdown",
   "metadata": {},
   "source": [
    "### Part c\n",
    "Using this model, each measurement comes from a single $ds$ along the line of sight, so we can approximate the volume density of H atoms as a function of distance as $n_H \\sim N_H / ds$.\n",
    "Use the quantities to calculate $n_H$ for each point and plot with respect to the galactocentric radius $R_{gc}$. \n",
    "\n",
    "As a comparison, on the same plot, plot the average midplane number density of neutral hydrogen from Kalberla and Kerp (Section 3.1.3)\n",
    "\n",
    "How does your derived number density along your single line of sight compare to the smoothed profile of the galactic average?\n"
   ]
  },
  {
   "cell_type": "code",
   "execution_count": null,
   "metadata": {},
   "outputs": [],
   "source": [
    "\n",
    "nh_bins = #your solution here\n",
    "\n",
    "def n_kk(rgc):\n",
    "    # functional form from Kalberla and Kerp\n",
    "    \n",
    "\n",
    "f,ax = subplots(1,dpi=100)\n",
    "ax.semilogy(spec.r_,nh_bins,'.-')\n",
    "ax.semilogy(spec.r_, n_kk(spec.r_),'--')\n",
    "ax.set_xlabel(r'$R_{gc}$ [kpc]',fontsize=12)\n",
    "ax.set_ylabel(r'$n_H \\ \\mathrm{[cm^{-3}]}$',fontsize=12)\n"
   ]
  },
  {
   "cell_type": "markdown",
   "metadata": {},
   "source": [
    "### Part d: *Menu* points (Optional)\n",
    "For a menu point for this week, write a script to perform the above analysis for multiple spectra taken along different lines of sight $l$. Make the plot for Part c, with the nH(r) plotted for every $l$. How does the average of those lines compare to the galactic average?\n",
    "\n",
    "For these purposes, you might find it useful to download spectrum files using python, below is a code that will request a file at a specific galactic longitude from the survey. "
   ]
  },
  {
   "cell_type": "code",
   "execution_count": null,
   "metadata": {},
   "outputs": [],
   "source": [
    "import requests\n",
    "\n",
    "long = '100.00'\n",
    "url = \"https://www.astro.uni-bonn.de/hisurvey/AllSky_profiles/download.php?ral=\"+long+\"&decb=0.00&csys=0&beam=0.200\"\n",
    "\n",
    "s = requests.Session()\n",
    "response = s.get(url)\n",
    "\n",
    "with open('spec'+long+'.txt', 'wb') as file:\n",
    "    file.write(response.content)"
   ]
  },
  {
   "cell_type": "markdown",
   "metadata": {},
   "source": [
    "## II. Equilibrum Temperature of the ISM\n",
    "\n"
   ]
  },
  {
   "cell_type": "markdown",
   "metadata": {},
   "source": [
    "\n",
    "Let's build an ISM thermal model.\n",
    "We'll need sources of heating and cooling.\n",
    "We're going to pull from some models in [Wolfire,2003](https://ui.adsabs.harvard.edu/abs/2003ApJ...587..278W/abstract)\n",
    "\n",
    "We're going to use:\n",
    "1. CII cooling (Eq. C1 in Wolfire, 2003)\n",
    "2. OI cooling (Eq., C3 in Wolfire 2003)\n",
    "3. Lyman-alpha cooling, given by:\n",
    "\n",
    "$n^2 \\Lambda_{Ly\\alpha} = 2.0\\times 10^{-21}\\left({n_e/n_H\\over 10^{-4}}\\right)^2 n_H^2\\left({8000\\over T}\\right)^{1/2} \\,e^{-1.2\\times 10^5/T} {\\rm erg/s/cm^3}$ \n",
    "\n",
    "For heating we will include:\n",
    "1. Photoelectric grain heating (Eq. C5 in Wolfire 2003)\n",
    "2. Cosmic-ray heating, given by:\n",
    "$ \\begin{align} n \\Gamma_{CR} &= n_H \\zeta_H \\langle E \\rangle \\\\ &= 5.4\\times 10^{-28}\\left({n_H\\over 1\\,{\\rm cm}^{-3}}\\right) \\left({\\zeta_H\\over 10^{-16}\\,{\\rm s}^{-1}}\\right) \\left({\\langle E\\rangle\\over 3.4\\,{\\rm eV}}\\right) {\\rm erg/s/cm^3}. \\end{align} $\n",
    "\n",
    "We'll also need the electron density, for which you can use Eq. C15 from Wolfire, 2003. \n",
    "\n",
    "Assume a cosmic ray ionization rate of $\\zeta_H = 1.3 \\times 10^{-16} /s $ and a PAH fraction of 0.5. \n",
    "For the equations from Wolfire, 2003, assume values at the solar circle. (i.e. every term with a prime (for ex. $G_0^\\prime$) is set to 1.)\n",
    "\n",
    "\n",
    "\n",
    "\n",
    "\n"
   ]
  },
  {
   "cell_type": "markdown",
   "metadata": {},
   "source": [
    "### Part a\n",
    "\n",
    "Write a function for each heating and cooling term in terms of $T$ and $n$. Remember that conventions can change between papers, so pay attention to the units.\n",
    "\n",
    "Make a plot of the heating and cooling contributions as a function of temperature with one panel at $n = 1 \\mathrm{cm^{-3}}$.\n",
    "\n",
    "Write a caption for the plot describing the dominant sources of heating and cooling at different temperatures."
   ]
  },
  {
   "cell_type": "markdown",
   "metadata": {},
   "source": [
    "### Part b\n",
    "\n",
    "Write a function that calculates the total (Heating - Cooling), as a function of $n$ and $T$. \n",
    "For a range of ISM number densities between 0.01 and 100, use this function and a routine in `scipy.optimize` to numerically solve for the equilibrium temperature at each n. \n",
    "\n",
    "According to the cooling and heating rates we used here, what is equlibrium temperature and pressure around the canonical WNM/CNM values? "
   ]
  },
  {
   "cell_type": "markdown",
   "metadata": {},
   "source": [
    "### Part c\n",
    "Plot the equilibrium pressure vs. the number density and compare to the FGH curve solution we discussed in class. "
   ]
  }
 ],
 "metadata": {
  "kernelspec": {
   "display_name": "base",
   "language": "python",
   "name": "python3"
  },
  "language_info": {
   "codemirror_mode": {
    "name": "ipython",
    "version": 3
   },
   "file_extension": ".py",
   "mimetype": "text/x-python",
   "name": "python",
   "nbconvert_exporter": "python",
   "pygments_lexer": "ipython3",
   "version": "3.8.3"
  },
  "orig_nbformat": 4
 },
 "nbformat": 4,
 "nbformat_minor": 2
}
