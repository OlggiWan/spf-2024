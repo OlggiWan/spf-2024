{
 "cells": [
  {
   "cell_type": "code",
   "execution_count": 1,
   "metadata": {},
   "outputs": [],
   "source": [
    "import numpy as np\n",
    "from pylab import *"
   ]
  },
  {
   "cell_type": "markdown",
   "metadata": {},
   "source": [
    "# Homework 1: Dust Models for the ISM\n",
    "In this assignment, we're going to create dust models for the bulk interstellar medium. \n",
    "Over the course of this assignment, we'll build up our dust model in terms of:\n",
    "1. the size distribution: most generally defined in terms of the number of particles of size $a$ per size bin $da$ distributed between the minimum dust size, $a_{min}$ and the maximum dust size $a_{max}$ in a power-law of the form: $n(a) \\propto a^{-p} da$\n",
    "\n",
    "2. the properties of the dust grains: determined by the composition and assumed physical structure of the dust (ranging from perfect sphere to fluffy aggregate) which determines the optical properties and material density of grains \n",
    "\n",
    "As you work through the parts of each question, you can write the code in the cell underneath each part and any written responses can be added in corresponding markdown cells (like this one). For this first assignment, I have provided some scaffolding on the coding end meant to get you started and demonstrate some ways you can go about formatting your solutions. You are welcome to amend any of the provided code or not use any of it at all, as long as your solutions address each question in full. "
   ]
  },
  {
   "cell_type": "markdown",
   "metadata": {},
   "source": [
    "## I. Size Distribution\n",
    "### part a. \n",
    "Write a python function to calculate a normalized distribution of dust sizes $n(a) da$ for a given input dust size $a$ given $a_{min}$, $a_{max}$, $p$ and total number density of dust $n_{d}$ across all sizes.\n",
    "\n",
    "Recall that: \n",
    "\n",
    "$n_d = \\int_{a_{min}}^{a_{max}} n_0 (a/a_{min})^{-p} da$\n",
    "\n",
    "Using your function, calculate $n(a)da$ vs. $a$ for a set of fiducial ISM values:\n",
    "\n",
    "$a_{min} = 0.005 \\mu m, \\\\\n",
    "a_{max} = 1 \\mu m, \\\\\n",
    "p=3.5$\n",
    "\n",
    "assuming a total number density $n_d = 1 cm^{-3}$, where $a$ should be an array of sizes from $a_{min}$ to $a_{max}$. \n",
    "Check your function by taking a numerical integral of the ism distribution you calculated using some form of numerical integration like `numpy.trapz`. The value of your numerical integral over the array of size bins should approximately equal $n_d$. How does the error in this integral depend on the number of points in your $a$ array? Is it better or worse if $a$ is logarithmically or linearly spaced?\n",
    "\n",
    "\n"
   ]
  },
  {
   "cell_type": "code",
   "execution_count": 2,
   "metadata": {},
   "outputs": [
    {
     "name": "stdout",
     "output_type": "stream",
     "text": [
      "Number of bins = 50, linear bins error = -0.8046140860741153, log bins error= -0.015125980383497217\n",
      "Number of bins = 100, linear bins error = -0.6222644473950809, log bins error= -0.003745959452650993\n",
      "Number of bins = 200, linear bins error = -0.36177097639569367, log bins error= -0.0009295804991692469\n"
     ]
    }
   ],
   "source": [
    "# a): function to return size distribution\n",
    "def n_(a_bins,amin=0.005,amax=1,p=3.5,n_d=10):\n",
    "    pre_total = (amin**p) * (amax**(-p+1) - amin**(-p+1)) / (-p+1) # analytical solution of the integral\n",
    "    n_0 = n_d/pre_total # normalization to calculate the value of n_0\n",
    "    if n_0 < 0:\n",
    "        print('warning n_0 < 0, non-physical solution')\n",
    "        return 0\n",
    "    else:\n",
    "        return n_0 * (a_bins/amin)**(-p)\n",
    "\n",
    "# calculate n_ism for ISM parameters\n",
    "amin = 0.005\n",
    "amax = 1\n",
    "p = 3.5\n",
    "n_d = 1 \n",
    "\n",
    "# size bins from amin to amax\n",
    "for n_bins in [50,100,200]:\n",
    "    a_bins_lin = np.linspace(amin,amax,n_bins)\n",
    "    a_bins = np.logspace(np.log10(amin),np.log10(amax),n_bins)\n",
    "    # n_ism = n(a) da for ISM parameters\n",
    "    n_ism_lin = n_(a_bins_lin,amin,amax,p,n_d)\n",
    "    n_ism = n_(a_bins,amin,amax,p,n_d)\n",
    "    nd_num_lin = np.trapz(n_ism_lin,a_bins_lin)\n",
    "    nd_num = np.trapz(n_ism,a_bins)\n",
    "    err_lin = n_d/nd_num_lin - 1.\n",
    "    err = n_d/nd_num - 1.\n",
    "    print('Number of bins = {}, linear bins error = {}, log bins error= {}'.format(n_bins, err_lin, err))"
   ]
  },
  {
   "cell_type": "markdown",
   "metadata": {},
   "source": [
    "### part a: solutions\n",
    "The error decreases with more points in the array, but is greatly improved with more logarithmic bins because there's a big dynamic range between $a_{min}$ and $a_{max}$. (Since this is a negative power-law, there's a lot of contribution at the small size bins that isn't captured well in the linear scale.)\n",
    "\n",
    "**General Feedback**\n",
    "* Check the documentation for functions you use *cough cough* `np.logspace`  \n",
    "* There is no level of coding expertise that can save you from basic typos and tiny setup errors propagating through your entire code. Reguarly quality checking your inputs, i.e. does this array actually contain the numbers I think it does?, by printing them out or plotting them can help you find them early before it gets too difficult to disentangle down the line. "
   ]
  },
  {
   "cell_type": "markdown",
   "metadata": {},
   "source": [
    "### part b. \n",
    "Once you're happy with how things are looking in the above parts, write another function to use what you have so far to calculate the average size of a dust particle $<a>$ for some size distribution $n(a) da$ and use it calculate the mean size of the distribution in part a. \n",
    "\n"
   ]
  },
  {
   "cell_type": "code",
   "execution_count": 157,
   "metadata": {},
   "outputs": [
    {
     "name": "stdout",
     "output_type": "stream",
     "text": [
      "0.008326960152533494\n"
     ]
    }
   ],
   "source": [
    "# b). function to return mean size for a given size distribution\n",
    "def mean_a(a_bins, n_dist):\n",
    "    tot_a = np.trapz(n_dist*a_bins,a_bins) # numerical integral of the total area\n",
    "    tot_n = np.trapz(n_dist,a_bins) #numerical integral of the total number\n",
    "    return tot_a/tot_n #average area = total area / number \n",
    "\n",
    "a_bysize_ism = mean_a(a_bins,n_ism)\n",
    "print(a_bysize_ism)"
   ]
  },
  {
   "cell_type": "markdown",
   "metadata": {},
   "source": [
    "### part b: solutions\n",
    "\n",
    "According to this the mean size of our input distribution is 0.008 microns"
   ]
  },
  {
   "cell_type": "markdown",
   "metadata": {},
   "source": [
    "### c.\n",
    "Now calculate the mean mass of a particle for the same distribution, assuming that each dust particle is a sphere with radius $a$ and a material density of $\\rho_s = 3.3 \\mathrm{ \\ g \\ cm^{-3}}$. How does this compare to the mass of a hydrogen atom? What is the typical size of the average mass particle? \n",
    "\n"
   ]
  },
  {
   "cell_type": "code",
   "execution_count": 221,
   "metadata": {},
   "outputs": [
    {
     "name": "stdout",
     "output_type": "stream",
     "text": [
      "3.45e-12 g or 2.07e+12 hydrogen atoms\n",
      "0.6298396380369534\n"
     ]
    }
   ],
   "source": [
    "# c). mass distribution\n",
    "def m_(a_bins, n_dist, rho_s=3.3):\n",
    "    rho_s *= (1e-4**3) # there are 1e-4 cm in a micron\n",
    "    return (a_bins)**3*(4*pi/3.)*(rho_s)\n",
    "\n",
    "def mean_m(a_bins,n_dist,m_dist):\n",
    "    tot_m = np.trapz(m_dist,a_bins) # total mass integral\n",
    "    tot_n = np.trapz(n_dist,a_bins) # total number\n",
    "    return tot_m/tot_n # average mass = total mass/ total number\n",
    "\n",
    "m_ave_ism = mean_m(a_bins,n_ism,m_(a_bins,n_ism))\n",
    "mH = 1.67e-24 # mass of a hydrogen atom in grams\n",
    "\n",
    "print( r'{:.2e} g or {:.2e} hydrogen atoms'.format(m_ave_ism, m_ave_ism/mH))\n",
    "\n",
    "a_bymass_ism = (m_ave_ism/(3.3)/(4*pi/3.))**(1/3.) * 1e4 # since average mass = average size by mass **3 * 4pi/3 * material density + converting to microns\n",
    "\n",
    "print(a_bymass_ism)"
   ]
  },
  {
   "cell_type": "markdown",
   "metadata": {},
   "source": [
    "### part c: solutions\n",
    "The average mass of a sub-micron dust grain is still a lot of atoms, which makes sense since atoms are ... you know... small and even small rocks are still comprised of many atoms in a crystal structure. \n",
    "\n",
    "The average size by mass is simply the size of the average mass particle, which here is 0.62 microns."
   ]
  },
  {
   "cell_type": "markdown",
   "metadata": {},
   "source": [
    "### d. \n",
    "So far, mathematically, we've essentially been treating the size distribution as a kind of probabibility density function. This means we can use a cumulative sum function to calculate the cumulative distribution function (CDF) from $a_{min}$ to $a_{max}$ of the cumulative number density distribution and the cumulative mass distribution. Make a plot of the cumulative fraction at each size by number ($F_{N}(<a)$) and by mass ($F_{M}(<a)$), annotating the sizes you calculated in part c and d on the plot. \n",
    "\n",
    "Recall: A CDF is normalized such that it goes from 0 to 1 across the range of its variable.\n",
    "\n",
    "Based on the ISM distribution, are most of the particles at smaller or larger sizes? Is most of the mass in particles at smaller or larger sizes?"
   ]
  },
  {
   "cell_type": "code",
   "execution_count": 163,
   "metadata": {},
   "outputs": [
    {
     "data": {
      "text/plain": [
       "Text(0.5, 1.0, 'CDF for ISM-like dust size distribution')"
      ]
     },
     "execution_count": 163,
     "metadata": {},
     "output_type": "execute_result"
    },
    {
     "data": {
      "image/png": "[encoded data removed]",
      "text/plain": [
       "<Figure size 600x400 with 1 Axes>"
      ]
     },
     "metadata": {
      "needs_background": "light"
     },
     "output_type": "display_data"
    }
   ],
   "source": [
    "# d). CDF for F by number vs. F by mass\n",
    "da = np.gradient(a_bins)\n",
    "CDF_N = np.cumsum(n_ism*da)/np.sum(n_ism*da)\n",
    "CDF_M = np.cumsum(m_(a_bins, n_ism)*da)/np.sum(m_(a_bins,n_ism)*da)\n",
    "\n",
    "f,ax=subplots(1,dpi=100)\n",
    "ax.plot(a_bins, CDF_N,lw=2,label=r'$F_N(<a)$',color='navy')\n",
    "ax.plot(a_bins, CDF_M,lw=2,label=r'$F_M(<a)$',color='maroon')\n",
    "ax.set_xscale('log')\n",
    "ax.axvline(a_bysize_ism,ls='dotted',color='gray',lw=1,label=r'$<a>_N =$ {:.1e} $\\mu$m'.format(a_bysize_ism))\n",
    "ax.axvline(a_bymass_ism,ls='dashed',color='gray',lw=1,label=r'$<a>_M =${:.1e} $\\mu$m'.format(a_bymass_ism))\n",
    "ax.set_xlabel(r'size - a [$\\mu m$]')\n",
    "ax.set_ylabel(r'CDF')\n",
    "ax.legend(loc=1)\n",
    "ax.set_title('CDF for ISM-like dust size distribution')"
   ]
  },
  {
   "cell_type": "markdown",
   "metadata": {},
   "source": [
    "### part d: solutions\n",
    "\n",
    "Here, we can write the cumulative distribution function (or fraction of number / fraction of mass ) as a cumulative integral sum of the distribution divided by the total integral sum of the distribution. \n",
    "Since I'm using np.cumsum here, I have to make sure to calculate the bin widths $da$ for the computation of the integral. \n",
    "\n",
    "\n",
    "From the $F(<N)$ plot you can see that ~ 80% of grains are at sizes smaller than 0.01 microns. So most of the grains themselves are quite small, which matches with what we know about the power-law distribution.\n",
    "\n",
    "However, from the $F(<M)$ plot, you can see 50% of the total mass is contained within particles at sizes greater than 0.8 microns. \n",
    "\n",
    "**General Feedback**\n",
    "* The zero order quality checks to make here are:\n",
    "    * to make sure that the mean sizes you calculated are within the bounds of the cumulative functions\n",
    "    * to make sure that the cumulative distribution goes from 0 to 1"
   ]
  },
  {
   "cell_type": "markdown",
   "metadata": {},
   "source": [
    "## II. Optical Properties\n",
    "Here we'll be using an open source code package called [optool](https://github.com/cdominik/optool/blob/master/UserGuide.pdf) to calculate the dust opacities of our dust grains using Mie Theory. *Note that if you are not using this notebook on the binder hub at CCA, you will need to install optool on our own machine using the installation instructions in the User Guide in order to run this part*\n",
    "\n",
    "### part a.\n",
    "We'll start by using `optool`'s python interface to initialize a particle object with an astrosilicate composition for a calculation with the default optical properties using Mie Theory for an ism-like distribution. We'll print the average size attribute of the optool particle object. It should match your answer for part Ib above. \n",
    "\n",
    "The information about dust model that `optool` can take as input are detailed in Section 4 of the linked manual. \n",
    "The output information that `optool` calculates is stored as attributes of the particle object, described in Section 7 of the manual. \n",
    "\n",
    "We are going to take the extinction opacity from the dust model and compare its shape to the measured average Milky Way extinction curve between 0.1 and 2.2 microns. \n",
    "\n",
    "For what wavelengths does this simple model capture the shape and behavior of the interstellar extinction curve the best?"
   ]
  },
  {
   "cell_type": "code",
   "execution_count": 4,
   "metadata": {},
   "outputs": [
    {
     "ename": "ModuleNotFoundError",
     "evalue": "No module named 'optool'",
     "output_type": "error",
     "traceback": [
      "\u001b[0;31m---------------------------------------------------------------------------\u001b[0m",
      "\u001b[0;31mModuleNotFoundError\u001b[0m                       Traceback (most recent call last)",
      "\u001b[1;32m/Users/akuznetsova/Desktop/notes-wiki/projects/CUNY2024/ISMdust.ipynb Cell 16\u001b[0m line \u001b[0;36m1\n\u001b[0;32m----> <a href='vscode-notebook-cell:/Users/akuznetsova/Desktop/notes-wiki/projects/CUNY2024/ISMdust.ipynb#X14sZmlsZQ%3D%3D?line=0'>1</a>\u001b[0m \u001b[39mimport\u001b[39;00m \u001b[39moptool\u001b[39;00m\n\u001b[1;32m      <a href='vscode-notebook-cell:/Users/akuznetsova/Desktop/notes-wiki/projects/CUNY2024/ISMdust.ipynb#X14sZmlsZQ%3D%3D?line=1'>2</a>\u001b[0m \u001b[39mfrom\u001b[39;00m \u001b[39mastropy\u001b[39;00m\u001b[39m.\u001b[39;00m\u001b[39mio\u001b[39;00m \u001b[39mimport\u001b[39;00m fits\n\u001b[1;32m      <a href='vscode-notebook-cell:/Users/akuznetsova/Desktop/notes-wiki/projects/CUNY2024/ISMdust.ipynb#X14sZmlsZQ%3D%3D?line=3'>4</a>\u001b[0m amin \u001b[39m=\u001b[39m \u001b[39m0.005\u001b[39m\n",
      "\u001b[0;31mModuleNotFoundError\u001b[0m: No module named 'optool'"
     ]
    }
   ],
   "source": [
    "import optool\n",
    "from astropy.io import fits\n",
    "\n",
    "amin = 0.005\n",
    "amax = 1\n",
    "p = 3.5\n",
    "\n",
    "#define the input command for optool\n",
    "cmd = \"optool {material} -mie -l 0.1 2.2 -a {amin} {amax} {p} 100 \".format(material='astrosil', amin=amin, amax= amax, p = p)\n",
    "\n",
    "#run optool with the input command in the python interface\n",
    "pism = optool.particle(cmd)\n",
    "\n",
    "#access the average size attribute for the input size distribution\n",
    "print(pism.a1)\n",
    "\n",
    "#wavelength and extinction opacities for the calculation\n",
    "wav_model = pism.lam # wavelength in microns\n",
    "kext_model = pism.kext.squeeze() # kappa_ext in g/cm^2\n",
    "\n",
    "#normalization factor so that kext = 1 at V band \n",
    "k_norm = kext_model[np.argmin(np.abs(wav_model-0.551))]\n",
    "kext_model /= k_norm\n",
    "\n",
    "#load in milky way extinction curve \n",
    "hdu1 = fits.open('milkyway_diffuse_001.fits')[1]\n",
    "wav_mw = 1./hdu1.data['WAVELENGTH'] #wavelength in microns\n",
    "Aext_mw = hdu1.data['Av/E(B-V)']/3.1 #A(wav)/A(V)\n",
    "\n",
    "#plot the model and the mw extinction curve\n",
    "f,ax = subplots(1,dpi=100)\n",
    "ax.plot(wav_model, kext_model,lw=2,label='dust model: $\\kappa(\\lambda)/\\kappa(V)$')\n",
    "ax.plot(wav_mw, Aext_mw,lw=2, label='MW ext.: $A(\\lambda)/A(V)$')\n",
    "ax.set_xlabel(r'$\\lambda$ [$\\mu$m]')\n",
    "ax.set_xscale('log')\n",
    "ax.set_ylabel('Extinction')\n",
    "ax.legend()"
   ]
  },
  {
   "cell_type": "markdown",
   "metadata": {},
   "source": [
    "### part a: solutions\n",
    "\n",
    "The simple astrosilicate ISM model captures the behavior at longer wavelengths ($\\lambda > 0.8 \\mu m$) fairly well. In the interstellar extinction curve, there is a broad feature at $0.22 \\mu m$, that is not well captured by the model."
   ]
  },
  {
   "cell_type": "markdown",
   "metadata": {},
   "source": [
    "### part b.\n",
    "\n",
    "You'll notice that several features in the measured extinction curve are notably absent from the model. Using the procedure above for calculating model extinctions using `optool`, conduct a numerical experiment varying one variable at a time and generate different dust models to investigate how the features in the model extinction curve change for different values of:\n",
    "\n",
    "i) $a_{max}$\n",
    "\n",
    "ii) power-law index $p$\n",
    "\n",
    "iii) grain material compositions (you may want to add grain materials to the astrosilicate mix rather than changing the entire composition)\n",
    "\n",
    "the exact values you test are up to you, but bonus points for motivating your choices. Cite any references you use.\n",
    "\n",
    "Make a figure like the one in part IIa to show the results for the different dust models you test against the observed extinction and describe the behavior of the models with the different parameters. Based on your results, what kind of changes would allow the dust model to better capture the behavior/features in the interstellar extinction curve and why?\n"
   ]
  },
  {
   "cell_type": "code",
   "execution_count": 3,
   "metadata": {},
   "outputs": [
    {
     "ename": "NameError",
     "evalue": "name 'optool' is not defined",
     "output_type": "error",
     "traceback": [
      "\u001b[0;31m---------------------------------------------------------------------------\u001b[0m",
      "\u001b[0;31mNameError\u001b[0m                                 Traceback (most recent call last)",
      "\u001b[1;32m/Users/akuznetsova/Desktop/notes-wiki/projects/CUNY2024/ISMdust.ipynb Cell 19\u001b[0m line \u001b[0;36m1\n\u001b[1;32m     <a href='vscode-notebook-cell:/Users/akuznetsova/Desktop/notes-wiki/projects/CUNY2024/ISMdust.ipynb#X16sZmlsZQ%3D%3D?line=9'>10</a>\u001b[0m cmd \u001b[39m=\u001b[39m \u001b[39m\"\u001b[39m\u001b[39moptool \u001b[39m\u001b[39m{material}\u001b[39;00m\u001b[39m -mie -l 0.1 2.2 -a \u001b[39m\u001b[39m{amin}\u001b[39;00m\u001b[39m \u001b[39m\u001b[39m{amax}\u001b[39;00m\u001b[39m \u001b[39m\u001b[39m{p}\u001b[39;00m\u001b[39m 100 \u001b[39m\u001b[39m\"\u001b[39m\u001b[39m.\u001b[39mformat(material\u001b[39m=\u001b[39m\u001b[39m'\u001b[39m\u001b[39mastrosil\u001b[39m\u001b[39m'\u001b[39m, amin\u001b[39m=\u001b[39mamin, amax\u001b[39m=\u001b[39m amax, p \u001b[39m=\u001b[39m p)\n\u001b[1;32m     <a href='vscode-notebook-cell:/Users/akuznetsova/Desktop/notes-wiki/projects/CUNY2024/ISMdust.ipynb#X16sZmlsZQ%3D%3D?line=11'>12</a>\u001b[0m \u001b[39m#run optool with the input command in the python interface\u001b[39;00m\n\u001b[0;32m---> <a href='vscode-notebook-cell:/Users/akuznetsova/Desktop/notes-wiki/projects/CUNY2024/ISMdust.ipynb#X16sZmlsZQ%3D%3D?line=12'>13</a>\u001b[0m pm \u001b[39m=\u001b[39m optool\u001b[39m.\u001b[39mparticle(cmd)\n\u001b[1;32m     <a href='vscode-notebook-cell:/Users/akuznetsova/Desktop/notes-wiki/projects/CUNY2024/ISMdust.ipynb#X16sZmlsZQ%3D%3D?line=14'>15</a>\u001b[0m \u001b[39m#wavelength and extinction opacities for the calculation\u001b[39;00m\n\u001b[1;32m     <a href='vscode-notebook-cell:/Users/akuznetsova/Desktop/notes-wiki/projects/CUNY2024/ISMdust.ipynb#X16sZmlsZQ%3D%3D?line=15'>16</a>\u001b[0m wav_model \u001b[39m=\u001b[39m pm\u001b[39m.\u001b[39mlam \u001b[39m# wavelength in microns\u001b[39;00m\n",
      "\u001b[0;31mNameError\u001b[0m: name 'optool' is not defined"
     ]
    },
    {
     "data": {
      "image/png": "[encoded data removed]",
      "text/plain": [
       "<Figure size 640x480 with 3 Axes>"
      ]
     },
     "metadata": {},
     "output_type": "display_data"
    }
   ],
   "source": [
    "f,ax=subplots(1,3,constrained_layout=True,dpi=100,sharey=True)\n",
    "\n",
    "amin = 0.005\n",
    "amax = 1\n",
    "p = 3.5\n",
    "\n",
    "#Changing max grain size\n",
    "sca(ax[0])\n",
    "for amax,ls in zip([0.2, 0.5, 1.5],['dotted','dashed','solid']):\n",
    "    cmd = \"optool {material} -mie -l 0.1 2.2 -a {amin} {amax} {p} 100 \".format(material='astrosil', amin=amin, amax= amax, p = p)\n",
    "\n",
    "    #run optool with the input command in the python interface\n",
    "    pm = optool.particle(cmd)\n",
    "\n",
    "    #wavelength and extinction opacities for the calculation\n",
    "    wav_model = pm.lam # wavelength in microns\n",
    "    kext_model = pm.kext.squeeze() # kappa_ext in g/cm^2\n",
    "\n",
    "    #normalization factor so that kext = 1 at V band \n",
    "    k_norm = kext_model[np.argmin(np.abs(wav_model-0.551))]\n",
    "    kext_model /= k_norm\n",
    "    \n",
    "\n",
    "    plot(wav_model, kext_model,lw=1.1,ls=ls,label=r'$a_{max}$'+r' = {:.2f} $\\mu m$'.format(amax),color='gray')\n",
    "legend()\n",
    "plot(wav_mw, Aext_mw,lw=2,color='black')\n",
    "xscale('log')\n",
    "ylabel('Extinction')\n",
    "title('max grain size')\n",
    "\n",
    "amin = 0.005\n",
    "amax = 1\n",
    "p = 3.5\n",
    "\n",
    "#Changing power-law \n",
    "sca(ax[1])\n",
    "for p,ls in zip([2.5, 3.0, 3.5],['dotted','dashed','solid']):\n",
    "    cmd = \"optool {material} -mie -l 0.1 2.2 -a {amin} {amax} {p} 100 \".format(material='astrosil', amin=amin, amax= amax, p = p)\n",
    "\n",
    "    #run optool with the input command in the python interface\n",
    "    pm = optool.particle(cmd)\n",
    "\n",
    "    #wavelength and extinction opacities for the calculation\n",
    "    wav_model = pm.lam # wavelength in microns\n",
    "    kext_model = pm.kext.squeeze() # kappa_ext in g/cm^2\n",
    "\n",
    "    #normalization factor so that kext = 1 at V band \n",
    "    k_norm = kext_model[np.argmin(np.abs(wav_model-0.551))]\n",
    "    kext_model /= k_norm\n",
    "    \n",
    "\n",
    "    plot(wav_model, kext_model,lw=1.1,ls=ls,label=r'$p$ = {:.1f}'.format(p),color='gray')\n",
    "plot(wav_mw, Aext_mw,lw=2,color='black')\n",
    "legend()\n",
    "xscale('log')\n",
    "ylim(0,5)\n",
    "xlabel(r'$\\lambda$ [$\\mu$m]')\n",
    "title(r'power-law index $p$')\n",
    "\n",
    "amin = 0.005\n",
    "amax = 1\n",
    "p = 3.5\n",
    "\n",
    "#Changing material composition\n",
    "sca(ax[2])\n",
    "for material,ls in zip(['astrosil', 'astrosil gra', 'astrosil iron'],['dotted','dashed','solid']):\n",
    "    cmd = \"optool {material} -mie -l 0.1 2.2 -a {amin} {amax} {p} 100 \".format(material=material, amin=amin, amax= amax, p = p)\n",
    "\n",
    "    #run optool with the input command in the python interface\n",
    "    pm = optool.particle(cmd)\n",
    "\n",
    "    #wavelength and extinction opacities for the calculation\n",
    "    wav_model = pm.lam # wavelength in microns\n",
    "    kext_model = pm.kext.squeeze() # kappa_ext in g/cm^2\n",
    "\n",
    "    #normalization factor so that kext = 1 at V band \n",
    "    k_norm = kext_model[np.argmin(np.abs(wav_model-0.551))]\n",
    "    kext_model /= k_norm\n",
    "    \n",
    "\n",
    "    plot(wav_model, kext_model,lw=1.1,ls=ls,label=material,color='gray')\n",
    "plot(wav_mw, Aext_mw,lw=2,color='black')\n",
    "legend()\n",
    "xscale('log')\n",
    "title('composition')\n"
   ]
  },
  {
   "cell_type": "markdown",
   "metadata": {},
   "source": [
    "### part b: solutions\n",
    "\n",
    "Changing the maximum grain"
   ]
  }
 ],
 "metadata": {
  "kernelspec": {
   "display_name": "Python 3",
   "language": "python",
   "name": "python3"
  },
  "language_info": {
   "codemirror_mode": {
    "name": "ipython",
    "version": 3
   },
   "file_extension": ".py",
   "mimetype": "text/x-python",
   "name": "python",
   "nbconvert_exporter": "python",
   "pygments_lexer": "ipython3",
   "version": "3.11.4"
  }
 },
 "nbformat": 4,
 "nbformat_minor": 4
}
