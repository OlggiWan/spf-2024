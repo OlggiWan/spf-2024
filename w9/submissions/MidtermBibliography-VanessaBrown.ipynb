{
 "cells": [
  {
   "cell_type": "markdown",
   "metadata": {},
   "source": [
    "# HII Regions: Bibliography\n",
    "\n",
    "### Vanessa Brown | Midterm | Star and Planet Formation 2024\n",
    "\n",
    "##### CASE STUDY: [(Deharveng et al., 2010)](https://ui.adsabs.harvard.edu/abs/2010A%26A...523A...6D/abstract) A gallery of bubbles. The nature of the bubbles observed by Spitzer and what ATLASGAL tells us about the surrounding neutral material\n",
    "\n",
    "In this paper the authors study 102 infrared \"bubbles\" in the galactic disk, detected by Spitzer-GLIMPSE, with the intention of identifying their association with massive stars. They use these images in addition to the infrared Spitzer-MIPSGAL (hot dust) and radio MAGPIS (ionized gas) surveys to investigate the nature of the bubbles, and use the ATLASGAL survey to trace the distribution of cold dust/star-forming material around the objects. They find that most of the bubbles are HII regions and a large subset show high indication of having collected significant cold dense material, having pre-existing dense material, or having newly formed massive stellar objects. The authors conclude that HII regions are important particularly in massive star formation, as they find signs of young stellar objects in the form of compact and ultracompact HII regions associated with the bubbles. I found this resource to be a good case study for HII regions as it briefly reviews their formation and evolution, showcases a neat method for identifying and tracing the morphologies of these regions, and concludes that HII regions have a cool role in the subsequent birth of massive stars, like a domino-effect. It also contains good information on how different tracers correspond to different components and structures of HII regions.\n",
    "\n",
    "##### [(Peimbert et al., 2017)](https://ui.adsabs.harvard.edu/abs/2017PASP..129h2001P/abstract) Nebular spectroscopy: A guide on HII Regions and planetary nebulae\n",
    "\n",
    "This paper is a review on gaseous nebulae and how to determine their abundances and contribution to stellar, galactic, and cosmic evolution. It includes a list of historical resources on HII regions, among other topics, and a discussion of physical processes within them (photoionization/recombination, heating/cooling, emission mechanisms); beyond that is a tutorial in calculating abundances that I didn't necessarily incorporate into my project for lack of space and relevance. I used this resource mainly to understand the radiation emitted by HII regions and detected by observers. This paper was helpful in reviewing the activity within HII regions and their basic structure (Stromgren radius calculation), and understanding why observers would choose to look at these objects at a given wavelength to extract information about them.\n",
    "\n",
    "##### [(Anderson et al., 2009)](https://ui.adsabs.harvard.edu/abs/2009ApJS..181..255A/abstract) The molecular properties of Galactic HII regions\n",
    "\n",
    "The authors in this paper study BU-FCRAO Galactic Ring Survey (GRS) sources of CO emission known to be HII regions and investigate the molecular gas associated with them. They are able to find evidence of an evolutionary sequence among these regions which begin as ultracompact HII regions, grow into compact HII regions, and then blossom into standard HII regions. Although I found these results very interesting, I mainly used this resource to review the basics on HII region structure which includes the ionized volume and molecular structures bordering the volume; the paper also has a succinct but helpful discussion of the source of asymmetries in HII regions and their causes, which are relevant to subsequent massive star formation.\n",
    "\n",
    "##### [(OSU) Richard W. Pogge](https://www.astronomy.ohio-state.edu/pogge.1/Ast871/Notes/Ionized.pdf) ASTR871 Physics of the Interstellar Medium: Ionized Hydrogen (HII) Regions\n",
    "\n",
    "These notes on HII regions, the foundations of a later textbook on the ISM/IGM, come from Prof. Richard Pogge's class on the Physics of the Interstellar Medium (OSU). They discuss emission mechanisms, photoionization equilibrium, ionization structure, calculations for pure nebulae and H + He nebulae, the three regimes for cool, warm, and hot stars, and many more concepts. I found this resource incredibly helpful for consulting details on HII region structure and the physical processes behind it, and getting a bit more familiar with the spectra of these objects. I was unable to include as many details as are present in these notes in my presentation due to time constraints, but found that this is a great comprehensive review with helpful supplementary images and easy-to-follow calculations.\n",
    "\n",
    "##### [(CfA)](https://lweb.cfa.harvard.edu/~atripath/Module/Home.html) HII Region Interactive Module\n",
    "\n",
    "This interactive module on the basics of HII regions is provided by the CfA and covers general information with multiwavelength views of nebulae, equations on HII region expansion, a Mathematica notebook on region evolution (with ionizing source, density, etc. all customizable), a brief discussion of departures from the simplistic model of expansion, and a list of further references. I found this resource helpful when just starting my research as it builds a foundational understanding about these objects through simple explanation, real images, diagrams, and more."
   ]
  }
 ],
 "metadata": {
  "language_info": {
   "name": "python"
  }
 },
 "nbformat": 4,
 "nbformat_minor": 2
}
