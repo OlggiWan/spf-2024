{
 "cells": [
  {
   "cell_type": "code",
   "execution_count": 3,
   "metadata": {
    "tags": []
   },
   "outputs": [],
   "source": [
    "from pylab import *\n",
    "import numpy as np"
   ]
  },
  {
   "cell_type": "markdown",
   "metadata": {},
   "source": [
    "# HW 12: Radiative Transfer Modeling\n",
    "\n",
    "We've talked about disk models and the general trends we can expect from irradiated sources. We want to build our understanding of how to interpret dust continuum images and what they can tell us about the underlying profile. In order to do this, we're going to start practicing using MCMC radiative transfer methods like RADMC-3D to build our intuition and give us a way to build more complex models. \n",
    "Whenever we use astronomical software, we want to be able to understand and contextualize its results and performance. We can use analytic models to validate results from more complicated setups and guide our interpretation. \n",
    "\n",
    "## I: Analytic Model\n",
    "### part a.\n",
    "Using the fiducial model we discussed in class, define functions for a radiative midplane temperature profile, the sound speed, Keplerian velocity, surface density profile, and gas scale height (as a function of radius). "
   ]
  },
  {
   "cell_type": "code",
   "execution_count": 1,
   "metadata": {
    "tags": []
   },
   "outputs": [],
   "source": [
    "kb = 1.3807e-16 #Boltzmann constant cgs\n",
    "Gconv = 6.6743e-8 # cgs\n",
    "sigsb = 5.671e-5 #Stefan Boltzmann constant\n",
    "c = 2.99792458e10 # speed of light cgs\n",
    "h = 6.6260755e-27 #planck constant cgs\n",
    "mh = 1.67e-24 # mass of hydrogen cgs\n",
    "pc = 3.086e18 #parsecs in cm\n",
    "au = 1.49598e13 #au in cm\n",
    "Msun = 1.989e33 #msun in grams\n",
    "\n",
    "def T_rad(r,Ts,Rs,f_A=0.5,r0=1.):\n",
    "    \"\"\"return radiative temperature profile \"\"\" \n",
    "    #your function here\n",
    "    return \n",
    "\n",
    "def Sigma_gas(r, rd, Md, r0=1.,p=1):\n",
    "    \"\"\"return gas surface density profile \"\"\" \n",
    "    #sig0 = \n",
    "    # your function here\n",
    "    return \n",
    "\n",
    "def cs_rad(r,r0=1.):\n",
    "    \"\"\"return sound speed profile \"\"\" \n",
    "    # your function here\n",
    "    return \n",
    "\n",
    "def vkep(r,r0=1):\n",
    "    \"\"\"return keplerian velocity profile \"\"\" \n",
    "    # your function here\n",
    "    return \n",
    "\n",
    "def h(r,r0=1):\n",
    "    \"\"\"return H/R (aspect ratio) profile \"\"\" \n",
    "    # your function here\n",
    "    return "
   ]
  },
  {
   "cell_type": "markdown",
   "metadata": {},
   "source": [
    "### part b\n",
    "Now you're going to do some reverse engineering. RADMC-3D has an extensive list of example protoplanetary disk models in the ```examples``` directory of the code. There's a lot of input files that need to be generated to run a [dust radiative transfer model](https://www.ita.uni-heidelberg.de/~dullemond/software/radmc-3d/manual_radmc3d/dustradtrans.html#overview-of-input-data-for-dust-radiative-transfer), but by running ```python problem_setup.py``` in one of the example directories, the script will generate those files for you for a set of default assumptions. \n",
    "\n",
    "We're building a simple radiative transfer model off of one of the examples (the computational astrophysict's tried and true way to learn how to run a numerical model is to take the closest working example to your desired situation and start by modifying it! always always always look at the examples!)\n",
    "\n",
    "I've used ```run_ppdisk_simple_2``` as our base model. I've included a folder called ```run_ppdisk_spf1```.  If you look at the contents of ```problem_setup.py``` in this directory you'll see a list of input parameters, see how they're used to define the grid the simulation uses, the disk surface density. You should recognize many of the fiducial parameters in the setup of this file. The main difference with what we've discussed in class is that this model uses two populations of dust (big and small) - in which 99% ```fracbig``` of grains are in large grains, which are settled to the midplane to a fraction of the gas scale height,  compared to the remaining 1% of small grains which remain coupled to the gas and thus share the gas scale height. This example has corresponding dust opacities for each population. Then the second half of the script writes all the input files for RADMC-3D based on the parameters in the model. \n",
    "\n",
    "Now, I want you to read through ```problem_setup.py``` and identify what the fiducial parameters used in the model are for\n",
    "\n",
    "**The stellar parameters**  \n",
    "$M_s$    \n",
    "$T_s$    \n",
    "$R_s$  \n",
    "**The disk parameters**  \n",
    "$\\Sigma(r_0)$  \n",
    "$r_d$ - the disk radius  \n",
    "$M_{d,gas}$ - the total disk gas mass   \n",
    "$\\epsilon $ - the dust to gas mass ratio   \n",
    "$H/R(r_0)$ - the aspect ratio at $r_0 = 1 \\ \\mathrm{au}$\n",
    "\n",
    "etc.\n",
    "\n",
    "Use these parameters and your defined functions to deduce and plot what the input profiles look like for $\\Sigma(r)$ for the dust and gas, $T(r), c_s(r), v_k(r), H(r)$"
   ]
  },
  {
   "cell_type": "code",
   "execution_count": 4,
   "metadata": {},
   "outputs": [
    {
     "name": "stderr",
     "output_type": "stream",
     "text": [
      "No handles with labels found to put in legend.\n",
      "No handles with labels found to put in legend.\n"
     ]
    },
    {
     "data": {
      "text/plain": [
       "Text(0.5, 0, 'r [au]')"
      ]
     },
     "execution_count": 4,
     "metadata": {},
     "output_type": "execute_result"
    },
    {
     "data": {
      "image/png": "[encoded data removed]",
      "text/plain": [
       "<Figure size 600x400 with 4 Axes>"
      ]
     },
     "metadata": {
      "needs_background": "light"
     },
     "output_type": "display_data"
    }
   ],
   "source": [
    "f,ax = subplots(2,2, constrained_layout=True, dpi=100,sharex=True)\n",
    "\n",
    "## radial grid from the problem setup\n",
    "rin = 1.\n",
    "rout = 100.\n",
    "nr = 64\n",
    "\n",
    "ri = np.logspace(np.log10(rin),np.log10(rout),nr+1)\n",
    "rc  = 0.5 * ( ri[0:nr] + ri[1:nr+1] )\n",
    "\n",
    "#rd_fid  = fiducial disk radius from problem setup\n",
    "#d2g_fid = fiducial disk radius from problem setup\n",
    "\n",
    "#sig_gas = Sigma_gas(rc,rd=rd_fid,)\n",
    "#sig_dust = sig_gas * d2g_fid\n",
    "\n",
    "#ax[0,0].loglog(rc, sig_gas, label='gas')\n",
    "#ax[0,0].loglog(rc, sig_dust, label='dust')\n",
    "ax[0,0].set_ylabel(r'$\\Sigma \\ \\mathrm{[g \\ cm^{-2}]}$')\n",
    "\n",
    "#T_init = T_rad(rc)\n",
    "#ax[0,1].semilogx(rc, T_init)\n",
    "ax[0,1].set_ylabel('T [K]')\n",
    "\n",
    "cmtokm = 10**-5\n",
    "#cs_init = cs_rad(rc)*cmtokm\n",
    "#vk_init = vkep(rc)*cmtokm\n",
    "#ax[1,0].loglog(rc, cs_init, label=r'$c_s$')\n",
    "#ax[1,0].loglog(rc, vk_init, label=r'$v_k$')\n",
    "ax[1,0].set_ylabel(r'$v \\ \\mathrm{[km\\ s^{-1}]}$')\n",
    "\n",
    "#H_init = h(rc)*rc\n",
    "\n",
    "#ax[1,1].loglog(rc, H_init)\n",
    "ax[1,1].set_ylabel('H [au]')\n",
    "\n",
    "ax[0,0].legend()\n",
    "ax[1,0].legend()\n",
    "\n",
    "ax[1,0].set_xlabel('r [au]')\n",
    "ax[1,1].set_xlabel('r [au]')"
   ]
  },
  {
   "cell_type": "markdown",
   "metadata": {},
   "source": [
    "Once you're happy with the model you've reverse engineered, you can solve for the cylindrical coordinate slice r-z, and plot the 2D distribution for the input dust density below assuming HSEQ:"
   ]
  },
  {
   "cell_type": "code",
   "execution_count": 6,
   "metadata": {},
   "outputs": [
    {
     "data": {
      "text/plain": [
       "Text(0, 0.5, 'z [au]')"
      ]
     },
     "execution_count": 6,
     "metadata": {},
     "output_type": "execute_result"
    },
    {
     "data": {
      "image/png": "[encoded data removed]",
      "text/plain": [
       "<Figure size 600x400 with 1 Axes>"
      ]
     },
     "metadata": {
      "needs_background": "light"
     },
     "output_type": "display_data"
    }
   ],
   "source": [
    "### polar grid from problem setup\n",
    "ntheta   = 32\n",
    "thetaup  = np.pi*0.5 - 0.7e0\n",
    "thetai   = np.linspace(thetaup,0.5e0*np.pi,ntheta+1) #pi/2 = midplane \n",
    "thetac   = 0.5 * ( thetai[0:ntheta] + thetai[1:ntheta+1] )\n",
    "\n",
    "### turning coordinates into square grid\n",
    "r, th = np.meshgrid(rc,thetac,indexing='ij')\n",
    "### returning z vs. r from cylindrical coordinates\n",
    "r_mid = r*np.sin(th) #cylindrical coordinate value\n",
    "z = r*np.cos(th) #cylindrical coordinate value\n",
    "\n",
    "#H_2d = np.expand_dims(H_init,axis=1)\n",
    "#rho_mid = np.expand_dims(sig_dust/(np.sqrt(2*pi)*H_init*au),axis=1)\n",
    "#rho_hseq = rho_mid *np.exp(-0.5*(z/H_2d)**2)\n",
    "\n",
    "f,ax=subplots(1,constrained_layout=True, dpi=100)\n",
    "#im = ax.pcolormesh(r_mid, z, np.log10(rho_hseq),vmin=-18)\n",
    "#ax.plot(rc,H_init,color='white')\n",
    "\n",
    "ax.set_xlabel('r [au]')\n",
    "ax.set_ylabel('z [au]')\n",
    "#colorbar(im, ax=ax)"
   ]
  },
  {
   "cell_type": "markdown",
   "metadata": {},
   "source": [
    "## I: Numerical Model\n",
    "Now we can try running the problem setup and generating the input file. Within the ```run_ppdisk_spf1``` directory, we can run the problem generator. You can use the command line or use the ```os``` library below to interface with the command line through the notebook.\n",
    "\n",
    "If everything went well, you should see some input files (with the extension ```.inp```)  were written in the directory."
   ]
  },
  {
   "cell_type": "code",
   "execution_count": null,
   "metadata": {},
   "outputs": [],
   "source": [
    "import os\n",
    "pathtodir = './run_ppdisk_spf1/'\n",
    "os.chdir(pathtodir)\n",
    "os.system('python problem_setup.py')"
   ]
  },
  {
   "cell_type": "markdown",
   "metadata": {},
   "source": [
    "### part a.\n",
    "Now we can load in the data from what radmc3d produced and check against the fiducial model you created. Below I've copied over some functions from the file providing some default python tools: ```radmc3d-2.0/python/radmc3d_tools/simple_read.py``` which you can load in by executing the cell below."
   ]
  },
  {
   "cell_type": "code",
   "execution_count": null,
   "metadata": {},
   "outputs": [],
   "source": [
    "import glob\n",
    "\n",
    "class simplereaddataobject(object):\n",
    "    \"\"\"\n",
    "    Generic data object for the RADMC-3D simpleread.py functions.\n",
    "    \"\"\"\n",
    "    def __init__(self,datatype):\n",
    "        self.datatype = datatype\n",
    "\n",
    "def read_grid():\n",
    "    \"\"\"\n",
    "    Reading the amr_grid.inp file, but only for regular grids (not for octree ones). \n",
    "\n",
    "    ARGUMENTS:\n",
    "      None\n",
    "\n",
    "    RETURNS:\n",
    "      Data object containing:\n",
    "\n",
    "        .nx          Nr of cells in x direction (in spherical coordinates this is the r-direction)\n",
    "        .ny          Nr of cells in y direction (in spherical coordinates this is the theta-direction)\n",
    "        .nz          Nr of cells in z direction (in spherical coordinates this is the phi-direction)\n",
    "        .nxi etc     The same as .nx etc, but now +1, giving the number of cell interfaces\n",
    "        .crd_sys     String indicating the coordinate system ('car' or 'sph')\n",
    "        .x,.y,.z     The x, y and z grid cell center locations\n",
    "        .xi,.yi,.zi  The x, y and z grid cell interface locations (each array 1 longer than the x, y, z ones)\n",
    "\n",
    "    \"\"\"\n",
    "    grid  = simplereaddataobject('grid')\n",
    "    fname = 'amr_grid.inp'\n",
    "    print('Reading '+fname)\n",
    "    data  = np.fromfile(fname, count=-1, sep=\" \", dtype=np.float64)\n",
    "\n",
    "    # Read the header\n",
    "    hdr   = np.array(data[:10], dtype=np.int)\n",
    "    data  = data[10:]\n",
    "\n",
    "    # Check the file format\n",
    "    if hdr[0] != 1:\n",
    "        msg = 'Unknown format number in amr_grid.inp'\n",
    "        raise RuntimeError(msg)\n",
    "    if hdr[2] < 100:\n",
    "        grid.crd_sys = 'car'\n",
    "    elif (hdr[2] >= 100) & (hdr[2] < 200):\n",
    "        grid.crd_sys = 'sph'\n",
    "    else:\n",
    "        raise ValueError('Unsupported coordinate system identification in the ' + fname + ' file.')\n",
    "\n",
    "    # Get active dimensions\n",
    "    grid.act_dim = hdr[4:7]\n",
    "\n",
    "    # Get the number of cells in each dimensions\n",
    "    grid.nx = hdr[7]\n",
    "    grid.ny = hdr[8]\n",
    "    grid.nz = hdr[9]\n",
    "    grid.nxi, grid.nyi, grid.nzi = grid.nx + 1, grid.ny + 1, grid.nz + 1\n",
    "\n",
    "    # Get the cell interfaces\n",
    "    grid.xi = data[:grid.nxi]\n",
    "    data = data[grid.nxi:]\n",
    "    grid.yi = data[:grid.nyi]\n",
    "    data = data[grid.nyi:]\n",
    "    grid.zi = data[:grid.nzi]\n",
    "\n",
    "    # Compute the cell centers\n",
    "    if grid.crd_sys == 'car':\n",
    "        grid.x = (grid.xi[0:grid.nx] + grid.xi[1:grid.nx + 1]) * 0.5\n",
    "        grid.y = (grid.yi[0:grid.ny] + grid.yi[1:grid.ny + 1]) * 0.5\n",
    "        grid.z = (grid.zi[0:grid.nz] + grid.zi[1:grid.nz + 1]) * 0.5\n",
    "    else:\n",
    "        grid.x = np.sqrt(grid.xi[0:grid.nx] * grid.xi[1:grid.nx + 1])\n",
    "        grid.y = (grid.yi[0:grid.ny] + grid.yi[1:grid.ny + 1]) * 0.5\n",
    "        grid.z = (grid.zi[0:grid.nz] + grid.zi[1:grid.nz + 1]) * 0.5\n",
    "\n",
    "    # Now return the grid object\n",
    "    return grid\n",
    "    \n",
    "def read_dustdens(indexorder='fortran'):\n",
    "    \"\"\"\n",
    "    Reading the dust_density.inp file, but only for regular grids, and only\n",
    "    for text data format (not binary).\n",
    "\n",
    "    ARGUMENTS:\n",
    "      indexorder        If 'fortran' then converting array to fortran \n",
    "                        index order (default). Else use Python/C order.\n",
    "\n",
    "    RETURNS:\n",
    "      Data object containing:\n",
    "\n",
    "        .grid           A grid object (see read_grid())\n",
    "        .rhodust        An array with the dust density values (in g/cm^3)\n",
    "    \"\"\"\n",
    "    grid      = read_grid()\n",
    "    dustdens  = simplereaddataobject('dust_density')\n",
    "    dustdens.grid = grid\n",
    "    fname     = 'dust_density.inp'\n",
    "    print('Reading '+fname)\n",
    "    data      = np.fromfile(fname, count=-1, sep=\" \", dtype=np.float64)\n",
    "    \n",
    "    # Read the header\n",
    "    hdr       = np.array(data[:3], dtype=np.int)\n",
    "    data      = data[3:]\n",
    "\n",
    "    # Check the file format\n",
    "    if hdr[0] != 1:\n",
    "        msg = 'Unknown format number in dust_density.inp'\n",
    "        raise RuntimeError(msg)\n",
    "\n",
    "    # Get the number of cells, and check against\n",
    "    nrcells = grid.nx*grid.ny*grid.nz\n",
    "    if(hdr[1]!=nrcells):\n",
    "        msg = 'Number of grid cells in dust_density.inp inconsistent with amr_grid.inp'\n",
    "        raise RuntimeError(msg)\n",
    "\n",
    "    # Get the number of dust species\n",
    "    dustdens.nrspec = hdr[2]\n",
    "\n",
    "    # Convert the rest of the data to the proper shape\n",
    "    data = np.reshape(data, [dustdens.nrspec, grid.nz, grid.ny, grid.nx])\n",
    "\n",
    "    # If indexorder is set to 'fortran', then the inner index of the array\n",
    "    # should be left (even though in Python the inner index is right). This\n",
    "    # is to assure that the index order in the Python arrays is the same as\n",
    "    # in the RADMC-3D code. But by setting indexorder to anything else, you\n",
    "    # can keep Python natural order (which is equal to C index order), in\n",
    "    # which the inner index is the rightmost index.\n",
    "    if indexorder=='fortran':\n",
    "        data = np.swapaxes(data, 0, 3)\n",
    "        data = np.swapaxes(data, 1, 2)\n",
    "\n",
    "    # Now add this to the object\n",
    "    dustdens.rhodust = data\n",
    "\n",
    "    # Return the dustdens object\n",
    "    return dustdens\n",
    "\n",
    "def read_dusttemp(indexorder='fortran'):\n",
    "    \"\"\"\n",
    "    Reading the dust_temperature.dat file, but only for regular grids, and only\n",
    "    for text data format (not binary).\n",
    "\n",
    "    ARGUMENTS:\n",
    "      indexorder        If 'fortran' then converting array to fortran \n",
    "                        index order (default). Else use Python/C order.\n",
    "\n",
    "    RETURNS:\n",
    "      Data object containing:\n",
    "\n",
    "        .grid           A grid object (see read_grid())\n",
    "        .dusttemp       An array with the dust temperature values (in K)\n",
    "    \"\"\"\n",
    "    grid      = read_grid()\n",
    "    dusttemp  = simplereaddataobject('dust_temperature')\n",
    "    dusttemp.grid = grid\n",
    "    fname     = 'dust_temperature.dat'\n",
    "    print('Reading '+fname)\n",
    "    data      = np.fromfile(fname, count=-1, sep=\" \", dtype=np.float64)\n",
    "    \n",
    "    # Read the header\n",
    "    hdr       = np.array(data[:3], dtype=np.int)\n",
    "    data      = data[3:]\n",
    "\n",
    "    # Check the file format\n",
    "    if hdr[0] != 1:\n",
    "        msg = 'Unknown format number in dust_temperature.inp'\n",
    "        raise RuntimeError(msg)\n",
    "\n",
    "    # Get the number of cells, and check against\n",
    "    nrcells = grid.nx*grid.ny*grid.nz\n",
    "    if(hdr[1]!=nrcells):\n",
    "        msg = 'Number of grid cells in dust_temperature.inp inconsistent with amr_grid.inp'\n",
    "        raise RuntimeError(msg)\n",
    "\n",
    "    # Get the number of dust species\n",
    "    dusttemp.nrspec = hdr[2]\n",
    "\n",
    "    # Convert the rest of the data to the proper shape\n",
    "    data = np.reshape(data, [dusttemp.nrspec, grid.nz, grid.ny, grid.nx])\n",
    "\n",
    "    # If indexorder is set to 'fortran', then the inner index of the array\n",
    "    # should be left (even though in Python the inner index is right). This\n",
    "    # is to assure that the index order in the Python arrays is the same as\n",
    "    # in the RADMC-3D code. But by setting indexorder to anything else, you\n",
    "    # can keep Python natural order (which is equal to C index order), in\n",
    "    # which the inner index is the rightmost index.\n",
    "    if indexorder=='fortran':\n",
    "        data = np.swapaxes(data, 0, 3)\n",
    "        data = np.swapaxes(data, 1, 2)\n",
    "\n",
    "    # Now add this to the object\n",
    "    dusttemp.dusttemp = data\n",
    "\n",
    "    # Return the dusttemp object\n",
    "    return dusttemp\n",
    "\n",
    "def read_image(indexorder='fortran'):\n",
    "    \"\"\"\n",
    "    Reading the image.out file.\n",
    "\n",
    "    ARGUMENTS:\n",
    "      indexorder        If 'fortran' then converting array to fortran \n",
    "                        index order (default). Else use Python/C order.\n",
    "\n",
    "    RETURNS:\n",
    "      Data object containing:\n",
    "\n",
    "        .freq           Frequency at which the image is taken\n",
    "        .image          An array with the image intensity in erg/(s.cm^2.Hz.ster)\n",
    "    \"\"\"\n",
    "    pc        = 3.08572e18     # Parsec                  [cm]\n",
    "    cc        = 2.99792458e10  # Light speed             [cm/s]\n",
    "    image     = simplereaddataobject('image')\n",
    "    fname     = 'image.out'\n",
    "    print('Reading '+ fname)\n",
    "    with open(fname, 'r') as rfile:\n",
    "        dum = ''\n",
    "\n",
    "        # Format number\n",
    "        iformat = int(rfile.readline())\n",
    "\n",
    "        # Nr of pixels\n",
    "        dum = rfile.readline()\n",
    "        dum = dum.split()\n",
    "        image.nx = int(dum[0])\n",
    "        image.ny = int(dum[1])\n",
    "\n",
    "        # Nr of frequencies\n",
    "        image.nfreq = int(rfile.readline())\n",
    "        image.nwav = image.nfreq\n",
    "\n",
    "        # Pixel sizes\n",
    "        dum = rfile.readline()\n",
    "        dum = dum.split()\n",
    "        image.sizepix_x = float(dum[0])\n",
    "        image.sizepix_y = float(dum[1])\n",
    "\n",
    "        # Wavelength of the image\n",
    "        image.wav = np.zeros(image.nwav, dtype=np.float64)\n",
    "        for iwav in range(image.nwav):\n",
    "            image.wav[iwav] = float(rfile.readline())\n",
    "        image.freq = cc / image.wav * 1e4\n",
    "\n",
    "        # Read the rest of the data\n",
    "        data = np.fromfile(rfile, count=-1, sep=\" \", dtype=np.float64)\n",
    "        \n",
    "    # Convert the rest of the data to the proper shape\n",
    "    if iformat == 1:\n",
    "        # We have a normal total intensity image\n",
    "        image.stokes = False\n",
    "        data = np.reshape(data, [image.nfreq, image.ny, image.nx])\n",
    "        if indexorder=='fortran':\n",
    "            data = np.swapaxes(data, 0, 2)\n",
    "\n",
    "    elif iformat == 3:\n",
    "        # We have the full stokes image\n",
    "        image.stokes = True\n",
    "        data = np.reshape(data, [image.nfreq, 4, image.ny, image.nx])\n",
    "        if indexorder=='fortran':\n",
    "            data = np.swapaxes(data, 0, 3)\n",
    "            data = np.swapaxes(data, 1, 2)\n",
    "\n",
    "    else:\n",
    "        msg = 'Unknown format number in image.out'\n",
    "        raise ValueError(msg)\n",
    "\n",
    "    # Add this to the object\n",
    "    image.image = data\n",
    "    \n",
    "    # Conversion from erg/s/cm/cm/Hz/ster to Jy/pixel\n",
    "    conv = image.sizepix_x * image.sizepix_y / pc**2. * 1e23\n",
    "    image.imageJyppix = image.image * conv\n",
    "    \n",
    "    # Create the x and y axes in units of cm\n",
    "    image.x = ((np.arange(image.nx, dtype=np.float64) + 0.5) - image.nx / 2) * image.sizepix_x\n",
    "    image.y = ((np.arange(image.ny, dtype=np.float64) + 0.5) - image.ny / 2) * image.sizepix_y\n",
    "    \n",
    "    # Return object\n",
    "    return image\n",
    "\n",
    "def read_spectrum(dpc=1.):\n",
    "    \"\"\"\n",
    "    Reading the spectrum.out file.\n",
    "\n",
    "    ARGUMENTS:\n",
    "      dpc               Distance of observer in parsec (default=1)\n",
    "\n",
    "    RETURNS:\n",
    "      Data object containing:\n",
    "\n",
    "        .wav            Wavelength array of the spectrum in micron\n",
    "        .freq           Frequency array of the spectrum in Hertz\n",
    "        .fnu            An array with the flux F_nu at dpc parsec in erg/(s.cm^2.Hz)\n",
    "    \"\"\"\n",
    "    cc        = 2.99792458e10  # Light speed             [cm/s]\n",
    "    spectrum  = simplereaddataobject('spectrum')\n",
    "    fname     = 'spectrum.out'\n",
    "    print('Reading '+ fname)\n",
    "    with open(fname, 'r') as rfile:\n",
    "        # Read the format number\n",
    "        iformat = int(rfile.readline())\n",
    "\n",
    "        # Read the number of wavelengths\n",
    "        spectrum.nwav = int(rfile.readline())\n",
    "        spectrum.freq = spectrum.nwav\n",
    "\n",
    "        # Read a blank line\n",
    "        dum = rfile.readline()\n",
    "\n",
    "        # Read the rest of the data\n",
    "        data = np.fromfile(rfile, count=-1, sep=\" \", dtype=np.float64)\n",
    "\n",
    "    # Reshape the spectrum\n",
    "    data          = np.reshape(data, [spectrum.nwav, 2])\n",
    "    spectrum.wav  = data[:,0]\n",
    "    spectrum.freq = 1e4 * cc / spectrum.wav\n",
    "    spectrum.fnu  = data[:,1]\n",
    "\n",
    "    # Rescale spectrum to other distance\n",
    "    spectrum.fnu /= dpc**2\n",
    "\n",
    "    # Return the spectrum\n",
    "    return spectrum\n",
    "\n",
    "def read_dustkappa(species=None):\n",
    "    \"\"\"\n",
    "    Reading a dust opacity file (but only the basic dustkappa_*.inp type,\n",
    "    not the dustkapscatmat_*.inp type).\n",
    "\n",
    "    ARGUMENTS:\n",
    "      species           The dust species: Reading dustkappa_<species>.inp\n",
    "                        If unspecified, read_dustkappa will search for such a file.\n",
    "                        If it finds a single one, it will read that. Otherwise it\n",
    "                        will request you to specify species.\n",
    "\n",
    "    RETURNS:\n",
    "      Data object containing:\n",
    "\n",
    "        .wav            Wavelength array of the spectrum in micron\n",
    "        .freq           Frequency array of the spectrum in Hertz\n",
    "        .kappa_abs      Absorption opacity in cm^2/gram-of-dust\n",
    "        .kappa_sca      Scattering opacity in cm^2/gram-of-dust\n",
    "        .kappa_g        The g-coefficient (between -1 and 1) for non-isotropic scattering\n",
    "    \"\"\"\n",
    "    cc        = 2.99792458e10  # Light speed             [cm/s]\n",
    "\n",
    "    # Find which dust opacity to read\n",
    "    if species is None:\n",
    "        fnames = glob.glob('dustkappa_*.inp')\n",
    "        if len(fnames)==0:\n",
    "            msg = 'No file of type dustkappa_*.inp is found in this directory.'\n",
    "            raise RuntimeError(msg)\n",
    "        if len(fnames)>1:\n",
    "            msg = 'More than one file of type dustkappa_*.inp is found in this directory. Please specify the name of the dust species as keyword species.'\n",
    "            raise RuntimeError(msg)\n",
    "        species = fnames[0]\n",
    "    if species[0:10]=='dustkappa_': species = species[10:]\n",
    "    if species[-4:]=='.inp': species = species[:-4]\n",
    "\n",
    "    # Read that dust opacity\n",
    "    dustkappa = simplereaddataobject('dustkappa')\n",
    "    fname     = 'dustkappa_'+species+'.inp'\n",
    "    print('Reading '+ fname)\n",
    "    with open(fname, 'r') as rfile:\n",
    "        # Check the file format (skipping comments)\n",
    "        iformat_str = rfile.readline()\n",
    "        while iformat_str[0]=='#':\n",
    "            iformat_str = rfile.readline()\n",
    "        iformat = int(iformat_str)\n",
    "\n",
    "        # Read the number of wavelength points\n",
    "        dustkappa.nwav = int(rfile.readline())\n",
    "        dustkappa.freq = dustkappa.nwav\n",
    "\n",
    "        # Now read the rest of the data\n",
    "        data = np.fromfile(rfile, count=-1, sep=\" \", dtype=np.float64)\n",
    "\n",
    "    # Reshape the data\n",
    "    if iformat==1:\n",
    "        data = np.reshape(data, [dustkappa.nwav, 2])\n",
    "    elif iformat==2:\n",
    "        data = np.reshape(data, [dustkappa.nwav, 3])\n",
    "    elif iformat==3:\n",
    "        data = np.reshape(data, [dustkappa.nwav, 4])\n",
    "    else:\n",
    "        msg = 'Format number of kappa file not known'\n",
    "        raise RuntimeError(msg)\n",
    "\n",
    "    # Extract the information\n",
    "    dustkappa.wav        = data[:,0]\n",
    "    dustkappa.freq       = 1e4 * cc / dustkappa.wav\n",
    "    dustkappa.kappa_abs  = data[:,1]\n",
    "    if iformat>1:\n",
    "        dustkappa.kappa_sca = data[:,2]\n",
    "    if iformat>2:\n",
    "        dustkappa.kappa_g = data[:,3]\n",
    "\n",
    "    # Return dustkappa\n",
    "    return dustkappa\n"
   ]
  },
  {
   "cell_type": "markdown",
   "metadata": {},
   "source": [
    "If you reverse engineered the model correctly, the analytic prediction below should match what you read in from the input file!"
   ]
  },
  {
   "cell_type": "code",
   "execution_count": 8,
   "metadata": {},
   "outputs": [
    {
     "data": {
      "text/plain": [
       "(0.0, 30.0)"
      ]
     },
     "execution_count": 8,
     "metadata": {},
     "output_type": "execute_result"
    },
    {
     "data": {
      "image/png": "[encoded data removed]",
      "text/plain": [
       "<Figure size 600x400 with 2 Axes>"
      ]
     },
     "metadata": {
      "needs_background": "light"
     },
     "output_type": "display_data"
    }
   ],
   "source": [
    "#data_in = read_dustdens()\n",
    "#dust_in = data_in.rhodust\n",
    "#dust_in_small = dust_in[:,:,0,0] #grab the 2D of the small dust grains (1% of the mass)\n",
    "#dust_in_large = dust_in[:,:,0,1] #grab the 2D of the large dust grains (99% of the mass, but with different H)\n",
    "\n",
    "#dust_in_small_analytic = rho_hseq*0.01 #predicted small dust distribution\n",
    "\n",
    "f,ax = subplots(1,2,constrained_layout=True, sharex=True, sharey=True,dpi=100)\n",
    "#ax[0].pcolormesh(r_mid, z, np.log10(dust_in_small),vmin=-18)\n",
    "#im = ax[1].pcolormesh(r_mid, z, np.log10(dust_in_small_analytic),vmin=-18)\n",
    "\n",
    "ax[0].set_title('RADMC model')\n",
    "ax[1].set_title('Analytic model')\n",
    "\n",
    "ax[0].set_xlabel('r [au]')\n",
    "ax[1].set_xlabel('r [au]')\n",
    "\n",
    "ax[0].set_ylabel('z [au]')\n",
    "\n",
    "ax[0].set_ylim(0,30)\n",
    "#colorbar(im,ax=ax)"
   ]
  },
  {
   "cell_type": "markdown",
   "metadata": {},
   "source": [
    "### part b\n",
    "Now that you know what kind of model you're running, let's run the basic thermal transfer!\n",
    "Once you have those files, you can run the basic radiative transfer calculation by typing ``` radmc3d mctherm``` on the command line. (This might take some time, let it run). After it's done, you should see a new file titled: ```dust_temperature.dat```\n"
   ]
  },
  {
   "cell_type": "code",
   "execution_count": null,
   "metadata": {},
   "outputs": [],
   "source": [
    "os.system('radmc3d mctherm')"
   ]
  },
  {
   "cell_type": "markdown",
   "metadata": {},
   "source": [
    "Reading in this file with the functions we loaded in, you can see it returns temperatures for the two dust populations. We can also plot the resulting 2D temperature for the large grains like we did for the dust densities. "
   ]
  },
  {
   "cell_type": "code",
   "execution_count": 9,
   "metadata": {},
   "outputs": [
    {
     "data": {
      "text/plain": [
       "Text(0, 0.5, 'z [au]')"
      ]
     },
     "execution_count": 9,
     "metadata": {},
     "output_type": "execute_result"
    },
    {
     "data": {
      "image/png": "[encoded data removed]",
      "text/plain": [
       "<Figure size 600x400 with 1 Axes>"
      ]
     },
     "metadata": {
      "needs_background": "light"
     },
     "output_type": "display_data"
    }
   ],
   "source": [
    "#data_out = read_dusttemp()\n",
    "#temp = data_out.dusttemp\n",
    "#print(np.shape(temp))\n",
    "\n",
    "#temp_large = temp[:,:,0,1]\n",
    "f,ax = subplots(1, dpi=100, constrained_layout=True)\n",
    "#im = ax.pcolormesh(r_mid, z, temp_large,cmap='Spectral_r')\n",
    "#ax.plot(rc,H_init,color='white')\n",
    "ax.set_xlabel('r [au]')\n",
    "ax.set_ylabel('z [au]')\n",
    "#colorbar(im,ax=ax)"
   ]
  },
  {
   "cell_type": "markdown",
   "metadata": {},
   "source": [
    "### part c\n",
    "Now let's see what we can interpret from the MCMC results! Let's compare these results to the values from your analytic determination. Around where does the temperature best match the analytic estimates? \n",
    "Is the analytic temperature an over or underestimate of the midplane temperature value?\n",
    "Based on what we assume about the optical depth of the radiative temperature profile, what does this tell you about how the dust opacity affects the resulting temperature?\n",
    "\n",
    "**Menu** Based on the resulting midplane temperature, derive what the new the H/R profile should be."
   ]
  },
  {
   "cell_type": "code",
   "execution_count": 10,
   "metadata": {},
   "outputs": [
    {
     "data": {
      "text/plain": [
       "Text(0, 0.5, 'T [K]')"
      ]
     },
     "execution_count": 10,
     "metadata": {},
     "output_type": "execute_result"
    },
    {
     "data": {
      "image/png": "[encoded data removed]",
      "text/plain": [
       "<Figure size 600x400 with 1 Axes>"
      ]
     },
     "metadata": {
      "needs_background": "light"
     },
     "output_type": "display_data"
    }
   ],
   "source": [
    "f,ax = subplots(1, dpi=100, constrained_layout=True)\n",
    "\n",
    "#temp_error = np.expand_dims(T_init,axis=1)/temp_large - 1.\n",
    "\n",
    "#im = ax.pcolormesh(r_mid, z, temp_error,cmap='viridis')\n",
    "#ax.plot(rc,H_init,color='white')\n",
    "ax.set_xlabel('r [au]')\n",
    "ax.set_ylabel('z [au]')\n",
    "\n",
    "#colorbar(im,ax=ax)\n",
    "\n",
    "xlabel('r [au]')\n",
    "ylabel('T [K]')"
   ]
  }
 ],
 "metadata": {
  "kernelspec": {
   "display_name": "Python 3",
   "language": "python",
   "name": "python3"
  },
  "language_info": {
   "codemirror_mode": {
    "name": "ipython",
    "version": 3
   },
   "file_extension": ".py",
   "mimetype": "text/x-python",
   "name": "python",
   "nbconvert_exporter": "python",
   "pygments_lexer": "ipython3",
   "version": "3.8.3"
  }
 },
 "nbformat": 4,
 "nbformat_minor": 5
}
