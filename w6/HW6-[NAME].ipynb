{
 "cells": [
  {
   "cell_type": "code",
   "execution_count": 2,
   "metadata": {},
   "outputs": [],
   "source": [
    "from pylab import *\n",
    "import numpy as np"
   ]
  },
  {
   "cell_type": "markdown",
   "metadata": {},
   "source": [
    "# Homework 6: Angular Momentum\n",
    "\n",
    "## Part I\n",
    "The centrifugal radius: $R_c = \\frac{j^2}{GM_*}$ tells us how angular momentum determines the radius at which material is deposited at during infall into disk formation. \n",
    "If we assume angular momentum conservation from the envelope down to the disk scales, we know that over time each infalling layer, i,  at a radius of $r_i$ has specific angular momentum $j_i = r_i^2 \\Omega_i$.\n",
    "\n",
    "### part a\n",
    "In the TSC model, for $\\dot{M}_{in} = \\frac{m_0 c_s^3}{G}$, each layer falls from a radius $r_i = (m_0/2) c_s t$ where $m_0 = 0.975$, a dimensionless constant and $c_s$ is the isothermal sound speed. \n",
    "For this model, derive $M_{*}(t)$ and $R_c(t)$. \n",
    "\n",
    "### part b\n",
    "The break-up angular velocity of a rotating body is defined as where the gravitational energy is equal to the rotational energy. Above this value, the body would be torn apart by rotation as gravity would not be able to hold it together. \n",
    "Derive the break-up velocity for a protostellar core and calculate it in radians per second for a 1 solar mass core of about 0.1 pc in size. \n",
    "\n",
    "### part c\n",
    "Plot $Rc(t)$ for $c_s = 0.2 \\ \\mathrm{km \\ s^{-1}}$ and $\\Omega_i = 2 \\times 10^{-14} \\mathrm{rad \\ s^{-1}}$ for t between 0 and 500 kyr. How fast is the input angular velocity compared to break up? What is the resulting disk size at t=500 kyr? How much mass would have infallen in that time span?\n",
    "\n",
    "### part d\n",
    "So far we have only been assuming that $\\Omega_i$ is constant solid body rotation, but in principle $\\Omega_i(r)$ could be a function of radius within the protostellar core. For instance, if we take the scaling of an turbulent sub-sonic eddy as in Larson's law, $v_{rot} \\propto R^{-0.33}$. Solve for the corresponding $\\Omega_i(r)$ and $Rc(t)$ with this more generalized behavior. \n",
    "\n",
    "### part e\n",
    "Let's say that the angular velocity has the form: $\\Omega_s \\left( \\frac{r}{r_s}\\right)^{p}$. Where $\\Omega_s =  2 \\times 10^{-14} \\mathrm{rad \\ s^{-1}}$ at $r_s = 0.05 \\ \\mathrm{pc}$ (to match measured values from observations at the same scale). Plot $Rc(t)$ for both the  uniform $\\Omega_i$ and the turbulent $\\Omega_i$ case on the same plot, assuming the power-law form above. When do both models have the same $R_c$? \n",
    "Based on what you know about mass deposition during disk formation, qualitatively, what would be the difference betweeen the disks formed under these two assumptions?"
   ]
  },
  {
   "cell_type": "markdown",
   "metadata": {},
   "source": [
    "## Part II: *Menu* \n",
    "\n",
    "For additional menu points this week, use the $Rc(t)$ you calculated above, and the $\\dot{\\Sigma}(r,t)$ profile from Cassen+Moosman 1981 to numerically integrate through time to calculate $\\Sigma(t)$ for the two cases in part d. (This gives us a very rough understanding of the resulting disk as it does not take into account angular momentum transport during this phase). Plot the resulting surface density profiles and comment on their differences. \n",
    "\n",
    "*Hint*: You may want your timesteps to be logarithmically spaced"
   ]
  }
 ],
 "metadata": {
  "kernelspec": {
   "display_name": "Python 3",
   "language": "python",
   "name": "python3"
  },
  "language_info": {
   "codemirror_mode": {
    "name": "ipython",
    "version": 3
   },
   "file_extension": ".py",
   "mimetype": "text/x-python",
   "name": "python",
   "nbconvert_exporter": "python",
   "pygments_lexer": "ipython3",
   "version": "3.8.3"
  }
 },
 "nbformat": 4,
 "nbformat_minor": 4
}
