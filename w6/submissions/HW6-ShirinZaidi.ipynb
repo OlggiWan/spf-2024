{
 "cells": [
  {
   "cell_type": "code",
   "execution_count": 1,
   "metadata": {},
   "outputs": [],
   "source": [
    "from pylab import *\n",
    "import numpy as np\n"
   ]
  },
  {
   "cell_type": "markdown",
   "metadata": {},
   "source": [
    "# Homework 6: Angular Momentum\n",
    "\n",
    "## Part I\n",
    "The centrifugal radius: $R_c = \\frac{j^2}{GM_*}$ tells us how angular momentum determines the radius at which material is deposited at during infall into disk formation. \n",
    "If we assume angular momentum conservation from the envelope down to the disk scales, we know that over time each infalling layer, i,  at a radius of $r_i$ has specific angular momentum $j_i = r_i^2 \\Omega_i$.\n",
    "\n",
    "### part a\n",
    "In the TSC model, for $\\dot{M}_{in} = \\frac{m_0 c_s^3}{G}$, each layer falls from a radius $r_i = (m_0/2) c_s t$ where $m_0 = 0.975$, a dimensionless constant and $c_s$ is the isothermal sound speed. \n",
    "For this model, derive $M_{*}(t)$ and $R_c(t)$. \n",
    "\n",
    "### part b\n",
    "The break-up angular velocity of a rotating body is defined as where the gravitational energy is equal to the rotational energy. Above this value, the body would be torn apart by rotation as gravity would not be able to hold it together. \n",
    "Derive the break-up velocity for a protostellar core and calculate it in radians per second for a 1 solar mass core of about 0.1 pc in size. \n",
    "\n",
    "### part c\n",
    "Plot $Rc(t)$ for $c_s = 0.2 \\ \\mathrm{km \\ s^{-1}}$ and $\\Omega_i = 2 \\times 10^{-14} \\mathrm{rad \\ s^{-1}}$ for t between 0 and 500 kyr. How fast is the input angular velocity compared to break up? What is the resulting disk size at t=500 kyr? How much mass would have infallen in that time span?\n",
    "\n",
    "### part d\n",
    "So far we have only been assuming that $\\Omega_i$ is constant solid body rotation, but in principle $\\Omega_i(r)$ could be a function of radius within the protostellar core. For instance, if we take the scaling of an turbulent sub-sonic eddy as in Larson's law, $v_{rot} \\propto R^{-0.33}$. Solve for the corresponding $\\Omega_i(r)$ and $Rc(t)$ with this more generalized behavior. \n",
    "\n",
    "### part e\n",
    "Let's say that the angular velocity has the form: $\\Omega_s \\left( \\frac{r}{r_s}\\right)^{p}$. Where $\\Omega_s =  2 \\times 10^{-14} \\mathrm{rad \\ s^{-1}}$ at $r_s = 0.05 \\ \\mathrm{pc}$ (to match measured values from observations at the same scale). Plot $Rc(t)$ for both the  uniform $\\Omega_i$ and the turbulent $\\Omega_i$ case on the same plot, assuming the power-law form above. When do both models have the same $R_c$? \n",
    "Based on what you know about mass deposition during disk formation, qualitatively, what would be the difference betweeen the disks formed under these two assumptions?"
   ]
  },
  {
   "cell_type": "markdown",
   "metadata": {},
   "source": [
    "### Answers\n",
    "\n",
    "Part a: We're taking a look at the Terebey-Shu-Cassen, 1984 model for the collapse of a cloud core. We're starting simple, and using equations we've seen in class!\n",
    "<br> $\\dot{M}_{in} = \\frac{m_0 c_s^3}{G}$ <br> $\\frac{dM}{dt} = \\frac{m_0 c_s^3}{G}$ <br> $dM = \\frac{m_0 c_s^3 dt}{G}$ Integrating this... <br> $M_{\\star} = \\frac{m_0 c_s^3 t}{G}$ <br>\n",
    "Then, we can take the original centrifugal radius equation, $R_c = \\frac{j^2}{GM_*}$<br>$R_c = \\frac{r_i^4 \\Omega_i^2}{GM_*}$<br>$R_c = \\frac{((m_0/2) c_s t)^4 \\Omega_i^2}{G \\frac{m_0 c_s^3 t}{G}}$<br>$R_c = \\frac{(m_0 t)^4 c_s \\Omega_i^2}{16}$"
   ]
  },
  {
   "cell_type": "markdown",
   "metadata": {},
   "source": [
    "Part b: Taking the gravitational and rotational energies and setting them equal: <br>${E_{grav}} = E_{rot}$ We only care about the magnitude of the energies. We can expand on the energies (recalling the gravitational energy of a rotating sphere and the rotational energy of a sphere, using the moment of inertia of a sphere): <br>\n",
    "$\\frac{-3 G M m}{5 R} = \\frac{1}{2}I \\Omega^2$<br> $\\frac{-3 G M m}{5 R} = \\frac{1}{2}\\Omega^2*\\frac{2}{5} R^2$ <br> $\\frac{-3 G M m}{5 R} = \\frac{1}{5}\\Omega^2R^2$<br> $\\Omega = \\sqrt{\\frac{3GM}{R^3}}$ (which is the Keplerian velocity!) Plugging numbers in, we get ~ 1.08e-13."
   ]
  },
  {
   "cell_type": "code",
   "execution_count": 2,
   "metadata": {},
   "outputs": [
    {
     "name": "stdout",
     "output_type": "stream",
     "text": [
      "1.0820132205360431e-13\n"
     ]
    }
   ],
   "source": [
    "#Will be using cgs because <3 <3\n",
    "G = 6.67e-8 #cm^3 g^-1 s\n",
    "pctocm = 3.24e18 #pc to cm conversion\n",
    "kgtog = 1e3 #kg to g conversion\n",
    "M_sol = 1.99e30 #kg\n",
    "\n",
    "def buOmega(): #rad/s\n",
    "    R = 0.1*pctocm\n",
    "    M_sol_g = M_sol*kgtog\n",
    "    angvel = np.sqrt(3*G*M_sol_g/(R**3))\n",
    "    return angvel\n",
    "\n",
    "print(buOmega())\n"
   ]
  },
  {
   "cell_type": "markdown",
   "metadata": {},
   "source": [
    "Part c: Plotting the centrifugal radius:"
   ]
  },
  {
   "cell_type": "code",
   "execution_count": 3,
   "metadata": {},
   "outputs": [
    {
     "data": {
      "image/png": "[encoded data removed]",
      "text/plain": [
       "<Figure size 640x480 with 1 Axes>"
      ]
     },
     "metadata": {},
     "output_type": "display_data"
    }
   ],
   "source": [
    "c_s = 0.2 #km/s\n",
    "m_0 = 0.975\n",
    "t = np.linspace(0, 500)\n",
    "kyrtos = 3.15e9\n",
    "Omega = 2e-14 #rad/s\n",
    "t = np.logspace(-1,12,1000000) #log spacing of 0 to 1e12 seconds - 0 to 500 kyr\n",
    "\n",
    "def cent_rad(Omega):\n",
    "    r_i = (((m_0*t)**4)*(c_s)*(Omega**2))/16\n",
    "    return r_i\n",
    "\n",
    "plt.style.use('seaborn-v0_8-pastel')\n",
    "plt.plot(t, cent_rad(Omega))\n",
    "plt.title('Part c: Rotation as a Function of Time')\n",
    "plt.xlabel(\"Time (s)\")\n",
    "plt.ylabel(\"Angular Velocity (rad/s)\")\n",
    "plt.grid()"
   ]
  },
  {
   "cell_type": "markdown",
   "metadata": {},
   "source": [
    "Part d: Taking $v_{rot} \\propto R^{-0.33}$, we can expand a bit. Since we know that $v_{rot} = \\Omega R$: <br> $\\Omega(r) = \\frac{R^{-0.33}_i}{R_i}$ <br> and if we take our centripetal radius equation again: <br> $R_c(t) = \\frac{(m_0 t)^4 c_s \\Omega_i^2}{16}$ <br> $R_c(t) = \\frac{(m_0 t)^4 c_s (R^{-0.33})^2}{16{R^2}}$ <br> $R_c(t) = \\frac{(m_0 t)^4 c_s R^{1.76}}{16}$ <br> $R_c(t)^{-0.76} = \\frac{(m_0 t)^4 c_s}{16}$"
   ]
  },
  {
   "cell_type": "code",
   "execution_count": 12,
   "metadata": {},
   "outputs": [
    {
     "name": "stdout",
     "output_type": "stream",
     "text": [
      "[4.51843945e-34 4.51898050e-34 4.51952161e-34 ... 4.51735756e+18\n",
      " 4.51789847e+18 4.51843945e+18]\n",
      "1.62e+17\n"
     ]
    },
    {
     "ename": "TypeError",
     "evalue": "'numpy.ndarray' object is not callable",
     "output_type": "error",
     "traceback": [
      "\u001b[0;31m---------------------------------------------------------------------------\u001b[0m",
      "\u001b[0;31mTypeError\u001b[0m                                 Traceback (most recent call last)",
      "Cell \u001b[0;32mIn[12], line 14\u001b[0m\n\u001b[1;32m     10\u001b[0m     \u001b[38;5;28;01mreturn\u001b[39;00m angvel(r)\n\u001b[1;32m     12\u001b[0m uniform_angvel \u001b[38;5;241m=\u001b[39m (\u001b[38;5;241m2e-14\u001b[39m)\u001b[38;5;241m*\u001b[39m((\u001b[38;5;241m1\u001b[39m\u001b[38;5;241m/\u001b[39m\u001b[38;5;241m0.05\u001b[39m\u001b[38;5;241m*\u001b[39mpctocm)\u001b[38;5;241m*\u001b[39m\u001b[38;5;241m*\u001b[39m\u001b[38;5;241m-\u001b[39m\u001b[38;5;241m0.33\u001b[39m)\n\u001b[0;32m---> 14\u001b[0m rOmega \u001b[38;5;241m=\u001b[39m radialOmega(r)\n\u001b[1;32m     16\u001b[0m plt\u001b[38;5;241m.\u001b[39mplot(cent_rad(Omega), rOmega)\n\u001b[1;32m     17\u001b[0m plt\u001b[38;5;241m.\u001b[39mplot(cent_rad(Omega), buOmega())\n",
      "Cell \u001b[0;32mIn[12], line 10\u001b[0m, in \u001b[0;36mradialOmega\u001b[0;34m(r)\u001b[0m\n\u001b[1;32m      8\u001b[0m \u001b[38;5;28mprint\u001b[39m(r_s)\n\u001b[1;32m      9\u001b[0m angvel \u001b[38;5;241m=\u001b[39m ang\u001b[38;5;241m*\u001b[39m(r\u001b[38;5;241m/\u001b[39mr_s)\u001b[38;5;241m*\u001b[39m\u001b[38;5;241m*\u001b[39mp\n\u001b[0;32m---> 10\u001b[0m \u001b[38;5;28;01mreturn\u001b[39;00m angvel(r)\n",
      "\u001b[0;31mTypeError\u001b[0m: 'numpy.ndarray' object is not callable"
     ]
    }
   ],
   "source": [
    "r = cent_rad(Omega)\n",
    "\n",
    "def radialOmega(r): #rad/s\n",
    "    r_s = 0.05*pctocm\n",
    "    ang = 2e-14 #rad/s\n",
    "    p = -0.33\n",
    "    print(r)\n",
    "    print(r_s)\n",
    "    angvel = ang*(r/r_s)**p\n",
    "    return angvel(r)\n",
    "\n",
    "uniform_angvel = (2e-14)*((1/0.05*pctocm)**-0.33)\n",
    "\n",
    "\n",
    "plt.plot(cent_rad(Omega), radialOmega(r))\n",
    "plt.plot(cent_rad(Omega), buOmega())\n",
    "plt.title('Part e: Uniform vs Turbulent Angular Velocity')\n",
    "plt.xlabel(\"Time (s)\")\n",
    "plt.ylabel(\"Angular Velocity (rad/s)\")\n",
    "plt.grid()"
   ]
  },
  {
   "cell_type": "markdown",
   "metadata": {},
   "source": [
    "## Part II: *Menu* \n",
    "\n",
    "For additional menu points this week, use the $Rc(t)$ you calculated above, and the $\\dot{\\Sigma}(r,t)$ profile from Cassen+Moosman 1981 to numerically integrate through time to calculate $\\Sigma(t)$ for the two cases in part d. (This gives us a very rough understanding of the resulting disk as it does not take into account angular momentum transport during this phase). Plot the resulting surface density profiles and comment on their differences. \n",
    "\n",
    "*Hint*: You may want your timesteps to be logarithmically spaced"
   ]
  }
 ],
 "metadata": {
  "kernelspec": {
   "display_name": "Python 3",
   "language": "python",
   "name": "python3"
  },
  "language_info": {
   "codemirror_mode": {
    "name": "ipython",
    "version": 3
   },
   "file_extension": ".py",
   "mimetype": "text/x-python",
   "name": "python",
   "nbconvert_exporter": "python",
   "pygments_lexer": "ipython3",
   "version": "3.11.7"
  }
 },
 "nbformat": 4,
 "nbformat_minor": 4
}
