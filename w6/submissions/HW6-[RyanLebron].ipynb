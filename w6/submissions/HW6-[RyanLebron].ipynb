{
 "cells": [
  {
   "cell_type": "code",
   "execution_count": 2,
   "metadata": {},
   "outputs": [],
   "source": [
    "from pylab import *\n",
    "import numpy as np"
   ]
  },
  {
   "cell_type": "markdown",
   "metadata": {},
   "source": [
    "# Homework 6: Angular Momentum\n",
    "\n",
    "## Part I\n",
    "The centrifugal radius: $R_c = \\frac{j^2}{GM_*}$ tells us how angular momentum determines the radius at which material is deposited at during infall into disk formation. \n",
    "If we assume angular momentum conservation from the envelope down to the disk scales, we know that over time each infalling layer, i,  at a radius of $r_i$ has specific angular momentum $j_i = r_i^2 \\Omega_i$.\n",
    "\n",
    "### part a\n",
    "In the TSC model, for $\\dot{M}_{in} = \\frac{m_0 c_s^3}{G}$, each layer falls from a radius $r_i = (m_0/2) c_s t$ where $m_0 = 0.975$, a dimensionless constant and $c_s$ is the isothermal sound speed. \n",
    "For this model, derive $M_{*}(t)$ and $R_c(t)$. \n",
    "\n",
    "### part b\n",
    "The break-up angular velocity of a rotating body is defined as where the gravitational energy is equal to the rotational energy. Above this value, the body would be torn apart by rotation as gravity would not be able to hold it together. \n",
    "Derive the break-up velocity for a protostellar core and calculate it in radians per second for a 1 solar mass core of about 0.1 pc in size. \n",
    "\n",
    "### part c\n",
    "Plot $Rc(t)$ for $c_s = 0.2 \\ \\mathrm{km \\ s^{-1}}$ and $\\Omega_i = 2 \\times 10^{-14} \\mathrm{rad \\ s^{-1}}$ for t between 0 and 500 kyr. How fast is the input angular velocity compared to break up? What is the resulting disk size at t=500 kyr? How much mass would have infallen in that time span?\n",
    "\n",
    "### part d\n",
    "So far we have only been assuming that $\\Omega_i$ is constant solid body rotation, but in principle $\\Omega_i(r)$ could be a function of radius within the protostellar core. For instance, if we take the scaling of an turbulent sub-sonic eddy as in Larson's law, $v_{rot} \\propto R^{-0.33}$. Solve for the corresponding $\\Omega_i(r)$ and $Rc(t)$ with this more generalized behavior. \n",
    "\n",
    "### part e\n",
    "Let's say that the angular velocity has the form: $\\Omega_s \\left( \\frac{r}{r_s}\\right)^{p}$. Where $\\Omega_s =  2 \\times 10^{-14} \\mathrm{rad \\ s^{-1}}$ at $r_s = 0.05 \\ \\mathrm{pc}$ (to match measured values from observations at the same scale). Plot $Rc(t)$ for both the  uniform $\\Omega_i$ and the turbulent $\\Omega_i$ case on the same plot, assuming the power-law form above. When do both models have the same $R_c$? \n",
    "Based on what you know about mass deposition during disk formation, qualitatively, what would be the difference betweeen the disks formed under these two assumptions?"
   ]
  },
  {
   "cell_type": "markdown",
   "metadata": {},
   "source": [
    "### part a\n",
    "\n",
    "We have \n",
    "$R_c = \\frac{j^2}{GM_*}$\n",
    "\n",
    "$j_i = r_i^2 \\Omega_i$\n",
    "\n",
    "$\\dot{M}_{in} = \\frac{m_0 c_s^3}{G}$ \n",
    "\n",
    "$r_i = (m_0/2) c_s t$\n",
    "\n",
    "To start, $M(t) = \\int_0^t \\dot{M} dt = \\frac{m_0 c_s^3 t}{G}$ \n",
    "    \n",
    "Using the eqs for $r_i$, $j_i$,$M_*$ to solve for $R_c$\n",
    "\n",
    "$j_i = r_i^2  \\Omega_i = (m_0^2/4) c_s^2 t^2 \\Omega_i$\n",
    "\n",
    "$R_c(t) = \\frac{j^2}{GM_*} = \\frac{((m_0^2/4) c_s^2 t^2 \\Omega_i)^2}{G\\frac{m_0 c_s^3 t}{G}}$\n",
    "    \n",
    "$R_c(t) = \\frac{m_0^3 c_s \\Omega_i^2}{16} t^3$"
   ]
  },
  {
   "cell_type": "markdown",
   "metadata": {},
   "source": [
    "### part b\n",
    "Rotational energy:\n",
    "$\\frac{1}{2} I \\omega^2$ where $I = \\frac{2}{5} m R^2$ for a uniform sphere\n",
    "    \n",
    "Gravitational energy for a uniform sphere:\n",
    "$\\frac{3}{5}\\frac{GMm}{R}$\n",
    "    \n",
    "Set the two equal and solve for $\\omega$:\n",
    "\n",
    "$\\frac{1}{2} \\frac{2}{5} m R^2 \\omega^2 = \\frac{3}{5}\\frac{GMm}{R}$\n",
    "\n",
    "$\\Omega_{b} = \\sqrt{\\frac{3GM}{R^3}}$\n",
    "\n",
    "$\\Omega_{b}(M=1,R=.1pc) = 1.16 \\times 10^{-13} rad/s$"
   ]
  },
  {
   "cell_type": "markdown",
   "metadata": {},
   "source": [
    "### part c"
   ]
  },
  {
   "cell_type": "code",
   "execution_count": 8,
   "metadata": {},
   "outputs": [
    {
     "data": {
      "text/plain": [
       "Text(0, 0.5, '$R_c$ [au]')"
      ]
     },
     "execution_count": 8,
     "metadata": {},
     "output_type": "execute_result"
    },
    {
     "data": {
      "image/png": "[encoded data removed]",
      "text/plain": [
       "<Figure size 432x288 with 1 Axes>"
      ]
     },
     "metadata": {
      "needs_background": "light"
     },
     "output_type": "display_data"
    }
   ],
   "source": [
    "au = 1.469e13 \n",
    "yrtos = 3.14e7\n",
    "kmtocm = 10**5\n",
    "pctocm = 3.1e18\n",
    "\n",
    "t = np.logspace(0,5.75,1000)\n",
    "def R_c(t, c_s=0.2, omega_i=2.0e-14,p=0, r_s=0.05):\n",
    "    m_0 = 0.975\n",
    "    Rc_0 = (m_0**3 * (c_s*kmtocm) * (t*yrtos)**3 * omega_i**2)/16\n",
    "    Rc_s = (0.5*m_0 * (c_s*kmtocm) * (t*yrtos) /r_s/pctocm)**(-2*p)\n",
    "    ts = 2*r_s*pctocm/m_0/c_s/kmtocm\n",
    "    return Rc_0*Rc_s\n",
    "\n",
    "semilogy(t/1000, R_c(t)/au,label='uniform')\n",
    "xlabel('t [kyr]')\n",
    "ylabel('$R_c$ [au]')\n"
   ]
  },
  {
   "cell_type": "code",
   "execution_count": 31,
   "metadata": {},
   "outputs": [
    {
     "name": "stdout",
     "output_type": "stream",
     "text": [
      "input angular velocity is 0.17241379310344826 times faster\n",
      "disk size at t=500 kyr is ~100AU\n",
      "The amount of mass that would have infallen in that timespan is 0.9214898940712883 solar masses\n"
     ]
    }
   ],
   "source": [
    "ratio = 2e-14/1.16e-13\n",
    "print(\"input angular velocity is \" + str(ratio) + \" times faster\")\n",
    "print(\"disk size at t=500 kyr is ~100AU\")\n",
    "G = 6.6743e-8 \n",
    "def M_t(c_s, t):\n",
    "    return m_0 * c_s**3 * t / G\n",
    "M_c = M_t(c_s=0.2*1e5, t=t)\n",
    "print(\"The amount of mass that would have infallen in that timespan is \" + str(M_c[-1]/2e33) +  ' solar masses')\n"
   ]
  },
  {
   "cell_type": "markdown",
   "metadata": {},
   "source": [
    "### part d"
   ]
  },
  {
   "cell_type": "markdown",
   "metadata": {},
   "source": [
    "first, $\\Omega = \\Omega_s (\\frac{r}{r_s})^{p}$\n",
    "\n",
    " and $v \\propto R^{-0.33}$ , $\\Omega = v/R$  \n",
    "\n",
    "applying this to our previous $\\Omega_i$, \n",
    "$\\Omega_i = \\Omega_s (\\frac{r_i(t)}{r_s})^{-1.33}$\n",
    "\n",
    "Using this new $\\Omega_i$ to solve for $R_c(t)$, we get     \n",
    "$R_c(t) = \\frac{m_0^3 c_s \\Omega_s^2}{16} \\left(\\frac{r_i(t)}{r_s}\\right)^{-2p} t^3$ "
   ]
  },
  {
   "cell_type": "markdown",
   "metadata": {},
   "source": [
    "### part e"
   ]
  },
  {
   "cell_type": "code",
   "execution_count": 6,
   "metadata": {},
   "outputs": [
    {
     "data": {
      "text/plain": [
       "<matplotlib.legend.Legend at 0x7fcd30231520>"
      ]
     },
     "execution_count": 6,
     "metadata": {},
     "output_type": "execute_result"
    },
    {
     "data": {
      "image/png": "[encoded data removed]",
      "text/plain": [
       "<Figure size 600x400 with 1 Axes>"
      ]
     },
     "metadata": {
      "needs_background": "light"
     },
     "output_type": "display_data"
    }
   ],
   "source": [
    "au = 1.469e13 \n",
    "yrtos = 3.14e7\n",
    "kmtocm = 10**5\n",
    "pctocm = 3.1e18\n",
    "\n",
    "t = np.logspace(0,5.75,1000)\n",
    "def R_c(t, c_s=0.2, omega_s=2.0e-14,p=0, r_s=0.05):\n",
    "    m_0 = 0.975\n",
    "    Rc_0 = (m_0**3 * (c_s*kmtocm) * (t*yrtos)**3 * omega_s**2)/16\n",
    "    Rc_s = (0.5*m_0 * (c_s*kmtocm) * (t*yrtos) /r_s/pctocm)**(-2*p)\n",
    "    ts = 2*r_s*pctocm/m_0/c_s/kmtocm\n",
    "    return Rc_0*Rc_s\n",
    "\n",
    "f,ax = subplots(1,dpi=100)\n",
    "semilogy(t/1000, R_c(t)/au,label='uniform')\n",
    "semilogy(t/1000, R_c(t,p=1.33)/au,label='turbulent')\n",
    "xlabel('t [kyr]')\n",
    "ylabel('$R_c$ [au]')\n",
    "legend()"
   ]
  },
  {
   "cell_type": "markdown",
   "metadata": {},
   "source": [
    "Both models have the same $R_c$ at ~500kyrs\n",
    "Qualitatively, the disk formed under the turbulent assumption has larger radii falling much sooner. This means that more mass is going to fall at radii further than the uniform assumption.\n"
   ]
  },
  {
   "cell_type": "markdown",
   "metadata": {},
   "source": [
    "## Part II: *Menu* \n",
    "\n",
    "For additional menu points this week, use the $Rc(t)$ you calculated above, and the $\\dot{\\Sigma}(r,t)$ profile from Cassen+Moosman 1981 to numerically integrate through time to calculate $\\Sigma(t)$ for the two cases in part d. (This gives us a very rough understanding of the resulting disk as it does not take into account angular momentum transport during this phase). Plot the resulting surface density profiles and comment on their differences. \n",
    "\n",
    "*Hint*: You may want your timesteps to be logarithmically spaced"
   ]
  }
 ],
 "metadata": {
  "kernelspec": {
   "display_name": "Python 3",
   "language": "python",
   "name": "python3"
  },
  "language_info": {
   "codemirror_mode": {
    "name": "ipython",
    "version": 3
   },
   "file_extension": ".py",
   "mimetype": "text/x-python",
   "name": "python",
   "nbconvert_exporter": "python",
   "pygments_lexer": "ipython3",
   "version": "3.8.3"
  }
 },
 "nbformat": 4,
 "nbformat_minor": 4
}
